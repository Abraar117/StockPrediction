{
 "cells": [
  {
   "cell_type": "code",
   "execution_count": 1,
   "id": "904d6c48",
   "metadata": {},
   "outputs": [],
   "source": [
    "import numpy as np \n",
    "import pandas as pd \n",
    "import os \n",
    "import matplotlib.pyplot as plt \n",
    "import warnings\n",
    "warnings.filterwarnings('ignore')\n",
    "from matplotlib.pylab import rcParams\n",
    "rcParams['figure.figsize'] = 15, 6"
   ]
  },
  {
   "cell_type": "code",
   "execution_count": 2,
   "id": "eb28bd20",
   "metadata": {},
   "outputs": [
    {
     "data": {
      "text/html": [
       "<div>\n",
       "<style scoped>\n",
       "    .dataframe tbody tr th:only-of-type {\n",
       "        vertical-align: middle;\n",
       "    }\n",
       "\n",
       "    .dataframe tbody tr th {\n",
       "        vertical-align: top;\n",
       "    }\n",
       "\n",
       "    .dataframe thead th {\n",
       "        text-align: right;\n",
       "    }\n",
       "</style>\n",
       "<table border=\"1\" class=\"dataframe\">\n",
       "  <thead>\n",
       "    <tr style=\"text-align: right;\">\n",
       "      <th></th>\n",
       "      <th>date</th>\n",
       "      <th>symbol</th>\n",
       "      <th>open</th>\n",
       "      <th>close</th>\n",
       "      <th>low</th>\n",
       "      <th>high</th>\n",
       "      <th>volume</th>\n",
       "    </tr>\n",
       "  </thead>\n",
       "  <tbody>\n",
       "    <tr>\n",
       "      <th>0</th>\n",
       "      <td>2016-01-05 00:00:00</td>\n",
       "      <td>WLTW</td>\n",
       "      <td>123.430000</td>\n",
       "      <td>125.839996</td>\n",
       "      <td>122.309998</td>\n",
       "      <td>126.250000</td>\n",
       "      <td>2163600.0</td>\n",
       "    </tr>\n",
       "    <tr>\n",
       "      <th>1</th>\n",
       "      <td>2016-01-06 00:00:00</td>\n",
       "      <td>WLTW</td>\n",
       "      <td>125.239998</td>\n",
       "      <td>119.980003</td>\n",
       "      <td>119.940002</td>\n",
       "      <td>125.540001</td>\n",
       "      <td>2386400.0</td>\n",
       "    </tr>\n",
       "    <tr>\n",
       "      <th>2</th>\n",
       "      <td>2016-01-07 00:00:00</td>\n",
       "      <td>WLTW</td>\n",
       "      <td>116.379997</td>\n",
       "      <td>114.949997</td>\n",
       "      <td>114.930000</td>\n",
       "      <td>119.739998</td>\n",
       "      <td>2489500.0</td>\n",
       "    </tr>\n",
       "    <tr>\n",
       "      <th>3</th>\n",
       "      <td>2016-01-08 00:00:00</td>\n",
       "      <td>WLTW</td>\n",
       "      <td>115.480003</td>\n",
       "      <td>116.620003</td>\n",
       "      <td>113.500000</td>\n",
       "      <td>117.440002</td>\n",
       "      <td>2006300.0</td>\n",
       "    </tr>\n",
       "    <tr>\n",
       "      <th>4</th>\n",
       "      <td>2016-01-11 00:00:00</td>\n",
       "      <td>WLTW</td>\n",
       "      <td>117.010002</td>\n",
       "      <td>114.970001</td>\n",
       "      <td>114.089996</td>\n",
       "      <td>117.330002</td>\n",
       "      <td>1408600.0</td>\n",
       "    </tr>\n",
       "    <tr>\n",
       "      <th>...</th>\n",
       "      <td>...</td>\n",
       "      <td>...</td>\n",
       "      <td>...</td>\n",
       "      <td>...</td>\n",
       "      <td>...</td>\n",
       "      <td>...</td>\n",
       "      <td>...</td>\n",
       "    </tr>\n",
       "    <tr>\n",
       "      <th>851259</th>\n",
       "      <td>2016-12-30</td>\n",
       "      <td>ZBH</td>\n",
       "      <td>103.309998</td>\n",
       "      <td>103.199997</td>\n",
       "      <td>102.849998</td>\n",
       "      <td>103.930000</td>\n",
       "      <td>973800.0</td>\n",
       "    </tr>\n",
       "    <tr>\n",
       "      <th>851260</th>\n",
       "      <td>2016-12-30</td>\n",
       "      <td>ZION</td>\n",
       "      <td>43.070000</td>\n",
       "      <td>43.040001</td>\n",
       "      <td>42.689999</td>\n",
       "      <td>43.310001</td>\n",
       "      <td>1938100.0</td>\n",
       "    </tr>\n",
       "    <tr>\n",
       "      <th>851261</th>\n",
       "      <td>2016-12-30</td>\n",
       "      <td>ZTS</td>\n",
       "      <td>53.639999</td>\n",
       "      <td>53.529999</td>\n",
       "      <td>53.270000</td>\n",
       "      <td>53.740002</td>\n",
       "      <td>1701200.0</td>\n",
       "    </tr>\n",
       "    <tr>\n",
       "      <th>851262</th>\n",
       "      <td>2016-12-30 00:00:00</td>\n",
       "      <td>AIV</td>\n",
       "      <td>44.730000</td>\n",
       "      <td>45.450001</td>\n",
       "      <td>44.410000</td>\n",
       "      <td>45.590000</td>\n",
       "      <td>1380900.0</td>\n",
       "    </tr>\n",
       "    <tr>\n",
       "      <th>851263</th>\n",
       "      <td>2016-12-30 00:00:00</td>\n",
       "      <td>FTV</td>\n",
       "      <td>54.200001</td>\n",
       "      <td>53.630001</td>\n",
       "      <td>53.389999</td>\n",
       "      <td>54.480000</td>\n",
       "      <td>705100.0</td>\n",
       "    </tr>\n",
       "  </tbody>\n",
       "</table>\n",
       "<p>851264 rows × 7 columns</p>\n",
       "</div>"
      ],
      "text/plain": [
       "                       date symbol        open       close         low  \\\n",
       "0       2016-01-05 00:00:00   WLTW  123.430000  125.839996  122.309998   \n",
       "1       2016-01-06 00:00:00   WLTW  125.239998  119.980003  119.940002   \n",
       "2       2016-01-07 00:00:00   WLTW  116.379997  114.949997  114.930000   \n",
       "3       2016-01-08 00:00:00   WLTW  115.480003  116.620003  113.500000   \n",
       "4       2016-01-11 00:00:00   WLTW  117.010002  114.970001  114.089996   \n",
       "...                     ...    ...         ...         ...         ...   \n",
       "851259           2016-12-30    ZBH  103.309998  103.199997  102.849998   \n",
       "851260           2016-12-30   ZION   43.070000   43.040001   42.689999   \n",
       "851261           2016-12-30    ZTS   53.639999   53.529999   53.270000   \n",
       "851262  2016-12-30 00:00:00    AIV   44.730000   45.450001   44.410000   \n",
       "851263  2016-12-30 00:00:00    FTV   54.200001   53.630001   53.389999   \n",
       "\n",
       "              high     volume  \n",
       "0       126.250000  2163600.0  \n",
       "1       125.540001  2386400.0  \n",
       "2       119.739998  2489500.0  \n",
       "3       117.440002  2006300.0  \n",
       "4       117.330002  1408600.0  \n",
       "...            ...        ...  \n",
       "851259  103.930000   973800.0  \n",
       "851260   43.310001  1938100.0  \n",
       "851261   53.740002  1701200.0  \n",
       "851262   45.590000  1380900.0  \n",
       "851263   54.480000   705100.0  \n",
       "\n",
       "[851264 rows x 7 columns]"
      ]
     },
     "metadata": {},
     "output_type": "display_data"
    }
   ],
   "source": [
    "df =pd.read_csv(\"C:\\\\Users\\\\kazia\\\\Downloads\\\\prices.csv\", header=0)\n",
    "display (df)"
   ]
  },
  {
   "cell_type": "code",
   "execution_count": 3,
   "id": "0453aa32",
   "metadata": {},
   "outputs": [
    {
     "name": "stdout",
     "output_type": "stream",
     "text": [
      "(851264, 7)\n"
     ]
    }
   ],
   "source": [
    "print(df.shape)"
   ]
  },
  {
   "cell_type": "code",
   "execution_count": 4,
   "id": "a788417e",
   "metadata": {},
   "outputs": [
    {
     "name": "stdout",
     "output_type": "stream",
     "text": [
      "Index(['date', 'symbol', 'open', 'close', 'low', 'high', 'volume'], dtype='object')\n"
     ]
    }
   ],
   "source": [
    "print(df.columns)"
   ]
  },
  {
   "cell_type": "code",
   "execution_count": 5,
   "id": "ea752c81",
   "metadata": {},
   "outputs": [
    {
     "data": {
      "text/plain": [
       "KSU     1762\n",
       "NOC     1762\n",
       "ORCL    1762\n",
       "OMC     1762\n",
       "OKE     1762\n",
       "        ... \n",
       "KHC      378\n",
       "HPE      304\n",
       "CSRA     284\n",
       "WLTW     251\n",
       "FTV      126\n",
       "Name: symbol, Length: 501, dtype: int64"
      ]
     },
     "execution_count": 5,
     "metadata": {},
     "output_type": "execute_result"
    }
   ],
   "source": [
    "df.symbol.value_counts()"
   ]
  },
  {
   "cell_type": "code",
   "execution_count": 6,
   "id": "db3afbb1",
   "metadata": {},
   "outputs": [
    {
     "data": {
      "text/plain": [
       "array(['WLTW', 'A', 'AAL', 'AAP', 'AAPL', 'ABC', 'ABT', 'ACN', 'ADBE',\n",
       "       'ADI', 'ADM', 'ADP', 'ADS', 'ADSK', 'AEE', 'AEP', 'AES', 'AET',\n",
       "       'AFL', 'AGN', 'AIG', 'AIZ', 'AJG', 'AKAM', 'ALB', 'ALK', 'ALL',\n",
       "       'ALXN', 'AMAT', 'AME', 'AMG', 'AMGN', 'AMP', 'AMT', 'AMZN', 'AN',\n",
       "       'ANTM', 'AON', 'APA', 'APC', 'APD', 'APH', 'ARNC', 'ATVI', 'AVB',\n",
       "       'AVGO', 'AVY', 'AWK', 'AXP', 'AYI', 'AZO', 'BA', 'BAC', 'BAX',\n",
       "       'BBBY', 'BBT', 'BBY', 'BCR', 'BDX', 'BEN', 'BHI', 'BIIB', 'BK',\n",
       "       'BLK', 'BLL', 'BMY', 'BSX', 'BWA', 'BXP', 'C', 'CA', 'CAG', 'CAH',\n",
       "       'CAT', 'CB', 'CBG', 'CBS', 'CCI', 'CCL', 'CELG', 'CERN', 'CF',\n",
       "       'CHD', 'CHK', 'CHRW', 'CI', 'CINF', 'CL', 'CLX', 'CMA', 'CMCSA',\n",
       "       'CME', 'CMG', 'CMI', 'CMS', 'CNC', 'CNP', 'COF', 'COG', 'COH',\n",
       "       'COL', 'COO', 'COP', 'COST', 'CPB', 'CRM', 'CSCO', 'CSX', 'CTAS',\n",
       "       'CTL', 'CTSH', 'CTXS', 'CVS', 'CVX', 'CXO', 'D', 'DAL', 'DD', 'DE',\n",
       "       'DFS', 'DG', 'DGX', 'DHI', 'DHR', 'DIS', 'DISCA', 'DISCK', 'DLR',\n",
       "       'DLTR', 'DNB', 'DOV', 'DOW', 'DPS', 'DRI', 'DTE', 'DUK', 'DVA',\n",
       "       'DVN', 'EA', 'EBAY', 'ECL', 'ED', 'EFX', 'EIX', 'EL', 'EMN', 'EMR',\n",
       "       'ENDP', 'EOG', 'EQIX', 'EQR', 'EQT', 'ES', 'ESRX', 'ESS', 'ETFC',\n",
       "       'ETN', 'ETR', 'EW', 'EXC', 'EXPD', 'EXPE', 'EXR', 'F', 'FAST',\n",
       "       'FCX', 'FDX', 'FE', 'FFIV', 'FIS', 'FISV', 'FITB', 'FL', 'FLIR',\n",
       "       'FLR', 'FLS', 'FMC', 'FOX', 'FOXA', 'FRT', 'FSLR', 'FTI', 'FTR',\n",
       "       'GD', 'GE', 'GGP', 'GILD', 'GIS', 'GLW', 'GOOG', 'GOOGL', 'GPC',\n",
       "       'GPN', 'GPS', 'GRMN', 'GS', 'GT', 'GWW', 'HAL', 'HAR', 'HAS',\n",
       "       'HBAN', 'HBI', 'HCN', 'HCP', 'HD', 'HES', 'HIG', 'HOG', 'HOLX',\n",
       "       'HON', 'HP', 'HPQ', 'HRB', 'HRL', 'HRS', 'HSIC', 'HST', 'HSY',\n",
       "       'HUM', 'IBM', 'ICE', 'IDXX', 'IFF', 'ILMN', 'INTC', 'INTU', 'IP',\n",
       "       'IPG', 'IR', 'IRM', 'ISRG', 'ITW', 'IVZ', 'JBHT', 'JCI', 'JEC',\n",
       "       'JNJ', 'JNPR', 'JPM', 'JWN', 'K', 'KEY', 'KIM', 'KLAC', 'KMB',\n",
       "       'KMX', 'KO', 'KR', 'KSS', 'KSU', 'L', 'LB', 'LEG', 'LEN', 'LH',\n",
       "       'LKQ', 'LLL', 'LLTC', 'LLY', 'LMT', 'LNC', 'LNT', 'LOW', 'LRCX',\n",
       "       'LUK', 'LUV', 'LVLT', 'M', 'MA', 'MAA', 'MAC', 'MAR', 'MAS', 'MAT',\n",
       "       'MCD', 'MCHP', 'MCK', 'MCO', 'MDLZ', 'MDT', 'MET', 'MHK', 'MJN',\n",
       "       'MKC', 'MLM', 'MMC', 'MMM', 'MNST', 'MO', 'MON', 'MOS', 'MRK',\n",
       "       'MRO', 'MSFT', 'MSI', 'MTB', 'MTD', 'MU', 'MUR', 'MYL', 'NBL',\n",
       "       'NDAQ', 'NEE', 'NEM', 'NFLX', 'NFX', 'NI', 'NKE', 'NOC', 'NOV',\n",
       "       'NRG', 'NSC', 'NTAP', 'NTRS', 'NUE', 'NVDA', 'NWL', 'O', 'OKE',\n",
       "       'OMC', 'ORCL', 'ORLY', 'OXY', 'PAYX', 'PBCT', 'PBI', 'PCAR', 'PCG',\n",
       "       'PCLN', 'PDCO', 'PEG', 'PEP', 'PFE', 'PFG', 'PG', 'PGR', 'PH',\n",
       "       'PHM', 'PKI', 'PLD', 'PM', 'PNC', 'PNR', 'PNW', 'PPG', 'PPL',\n",
       "       'PRGO', 'PRU', 'PSA', 'PVH', 'PWR', 'PX', 'PXD', 'QCOM', 'R',\n",
       "       'RAI', 'RCL', 'REGN', 'RF', 'RHI', 'RHT', 'RIG', 'RL', 'ROK',\n",
       "       'ROP', 'ROST', 'RRC', 'RSG', 'RTN', 'SBUX', 'SCG', 'SCHW', 'SE',\n",
       "       'SEE', 'SHW', 'SIG', 'SJM', 'SLB', 'SLG', 'SNA', 'SNI', 'SO',\n",
       "       'SPG', 'SPGI', 'SPLS', 'SRCL', 'SRE', 'STI', 'STT', 'STX', 'STZ',\n",
       "       'SWK', 'SWKS', 'SWN', 'SYK', 'SYMC', 'SYY', 'T', 'TAP', 'TDC',\n",
       "       'TEL', 'TGNA', 'TGT', 'TIF', 'TJX', 'TMK', 'TMO', 'TROW', 'TRV',\n",
       "       'TSCO', 'TSN', 'TSO', 'TSS', 'TWX', 'TXN', 'TXT', 'UAA', 'UAL',\n",
       "       'UDR', 'UHS', 'ULTA', 'UNH', 'UNM', 'UNP', 'UPS', 'URBN', 'URI',\n",
       "       'USB', 'UTX', 'V', 'VAR', 'VFC', 'VIAB', 'VLO', 'VMC', 'VNO',\n",
       "       'VRSK', 'VRSN', 'VRTX', 'VTR', 'VZ', 'WAT', 'WBA', 'WDC', 'WEC',\n",
       "       'WFC', 'WFM', 'WHR', 'WM', 'WMB', 'WMT', 'WU', 'WY', 'WYN', 'WYNN',\n",
       "       'XEC', 'XEL', 'XL', 'XLNX', 'XOM', 'XRAY', 'XRX', 'YHOO', 'YUM',\n",
       "       'ZBH', 'ZION', 'AIV', 'CHTR', 'LYB', 'GM', 'ABBV', 'DLPH', 'FB',\n",
       "       'FBHS', 'HCA', 'KMI', 'KORS', 'MPC', 'NLSN', 'PSX', 'TDG', 'TRIP',\n",
       "       'XYL', 'ZTS', 'COTY', 'MNK', 'NWS', 'NWSA', 'EVHC', 'ALLE', 'CFG',\n",
       "       'NAVI', 'QRVO', 'SYF', 'WRK', 'KHC', 'PYPL', 'HPE', 'CSRA', 'FTV'],\n",
       "      dtype=object)"
      ]
     },
     "execution_count": 6,
     "metadata": {},
     "output_type": "execute_result"
    }
   ],
   "source": [
    "df.symbol.unique()"
   ]
  },
  {
   "cell_type": "code",
   "execution_count": 7,
   "id": "76804897",
   "metadata": {},
   "outputs": [
    {
     "data": {
      "text/plain": [
       "(501,)"
      ]
     },
     "execution_count": 7,
     "metadata": {},
     "output_type": "execute_result"
    }
   ],
   "source": [
    "df.symbol.unique().shape"
   ]
  },
  {
   "cell_type": "code",
   "execution_count": 8,
   "id": "c469a1ec",
   "metadata": {},
   "outputs": [
    {
     "data": {
      "text/plain": [
       "array(['WLTW', 'A', 'AAL', 'AAP', 'AAPL', 'ABC', 'ABT', 'ACN', 'ADBE',\n",
       "       'ADI', 'ADM', 'ADP', 'ADS', 'ADSK', 'AEE', 'AEP', 'AES', 'AET',\n",
       "       'AFL', 'AGN'], dtype=object)"
      ]
     },
     "execution_count": 8,
     "metadata": {},
     "output_type": "execute_result"
    }
   ],
   "source": [
    "df.symbol.unique()[0:20]"
   ]
  },
  {
   "cell_type": "code",
   "execution_count": 9,
   "id": "942f1d8d",
   "metadata": {},
   "outputs": [
    {
     "name": "stdout",
     "output_type": "stream",
     "text": [
      "851264\n"
     ]
    }
   ],
   "source": [
    "print(len(df.symbol.values))"
   ]
  },
  {
   "cell_type": "code",
   "execution_count": 10,
   "id": "f9e5d443",
   "metadata": {},
   "outputs": [
    {
     "name": "stdout",
     "output_type": "stream",
     "text": [
      "<class 'pandas.core.frame.DataFrame'>\n",
      "RangeIndex: 851264 entries, 0 to 851263\n",
      "Data columns (total 7 columns):\n",
      " #   Column  Non-Null Count   Dtype  \n",
      "---  ------  --------------   -----  \n",
      " 0   date    851264 non-null  object \n",
      " 1   symbol  851264 non-null  object \n",
      " 2   open    851264 non-null  float64\n",
      " 3   close   851264 non-null  float64\n",
      " 4   low     851264 non-null  float64\n",
      " 5   high    851264 non-null  float64\n",
      " 6   volume  851264 non-null  float64\n",
      "dtypes: float64(5), object(2)\n",
      "memory usage: 45.5+ MB\n"
     ]
    }
   ],
   "source": [
    "df.info()"
   ]
  },
  {
   "cell_type": "code",
   "execution_count": 11,
   "id": "fe4dcd96",
   "metadata": {},
   "outputs": [
    {
     "data": {
      "text/html": [
       "<div>\n",
       "<style scoped>\n",
       "    .dataframe tbody tr th:only-of-type {\n",
       "        vertical-align: middle;\n",
       "    }\n",
       "\n",
       "    .dataframe tbody tr th {\n",
       "        vertical-align: top;\n",
       "    }\n",
       "\n",
       "    .dataframe thead th {\n",
       "        text-align: right;\n",
       "    }\n",
       "</style>\n",
       "<table border=\"1\" class=\"dataframe\">\n",
       "  <thead>\n",
       "    <tr style=\"text-align: right;\">\n",
       "      <th></th>\n",
       "      <th>open</th>\n",
       "      <th>close</th>\n",
       "      <th>low</th>\n",
       "      <th>high</th>\n",
       "      <th>volume</th>\n",
       "    </tr>\n",
       "  </thead>\n",
       "  <tbody>\n",
       "    <tr>\n",
       "      <th>count</th>\n",
       "      <td>851264.000000</td>\n",
       "      <td>851264.000000</td>\n",
       "      <td>851264.000000</td>\n",
       "      <td>851264.000000</td>\n",
       "      <td>8.512640e+05</td>\n",
       "    </tr>\n",
       "    <tr>\n",
       "      <th>mean</th>\n",
       "      <td>70.836986</td>\n",
       "      <td>70.857109</td>\n",
       "      <td>70.118414</td>\n",
       "      <td>71.543476</td>\n",
       "      <td>5.415113e+06</td>\n",
       "    </tr>\n",
       "    <tr>\n",
       "      <th>std</th>\n",
       "      <td>83.695876</td>\n",
       "      <td>83.689686</td>\n",
       "      <td>82.877294</td>\n",
       "      <td>84.465504</td>\n",
       "      <td>1.249468e+07</td>\n",
       "    </tr>\n",
       "    <tr>\n",
       "      <th>min</th>\n",
       "      <td>0.850000</td>\n",
       "      <td>0.860000</td>\n",
       "      <td>0.830000</td>\n",
       "      <td>0.880000</td>\n",
       "      <td>0.000000e+00</td>\n",
       "    </tr>\n",
       "    <tr>\n",
       "      <th>25%</th>\n",
       "      <td>33.840000</td>\n",
       "      <td>33.849998</td>\n",
       "      <td>33.480000</td>\n",
       "      <td>34.189999</td>\n",
       "      <td>1.221500e+06</td>\n",
       "    </tr>\n",
       "    <tr>\n",
       "      <th>50%</th>\n",
       "      <td>52.770000</td>\n",
       "      <td>52.799999</td>\n",
       "      <td>52.230000</td>\n",
       "      <td>53.310001</td>\n",
       "      <td>2.476250e+06</td>\n",
       "    </tr>\n",
       "    <tr>\n",
       "      <th>75%</th>\n",
       "      <td>79.879997</td>\n",
       "      <td>79.889999</td>\n",
       "      <td>79.110001</td>\n",
       "      <td>80.610001</td>\n",
       "      <td>5.222500e+06</td>\n",
       "    </tr>\n",
       "    <tr>\n",
       "      <th>max</th>\n",
       "      <td>1584.439941</td>\n",
       "      <td>1578.130005</td>\n",
       "      <td>1549.939941</td>\n",
       "      <td>1600.930054</td>\n",
       "      <td>8.596434e+08</td>\n",
       "    </tr>\n",
       "  </tbody>\n",
       "</table>\n",
       "</div>"
      ],
      "text/plain": [
       "                open          close            low           high  \\\n",
       "count  851264.000000  851264.000000  851264.000000  851264.000000   \n",
       "mean       70.836986      70.857109      70.118414      71.543476   \n",
       "std        83.695876      83.689686      82.877294      84.465504   \n",
       "min         0.850000       0.860000       0.830000       0.880000   \n",
       "25%        33.840000      33.849998      33.480000      34.189999   \n",
       "50%        52.770000      52.799999      52.230000      53.310001   \n",
       "75%        79.879997      79.889999      79.110001      80.610001   \n",
       "max      1584.439941    1578.130005    1549.939941    1600.930054   \n",
       "\n",
       "             volume  \n",
       "count  8.512640e+05  \n",
       "mean   5.415113e+06  \n",
       "std    1.249468e+07  \n",
       "min    0.000000e+00  \n",
       "25%    1.221500e+06  \n",
       "50%    2.476250e+06  \n",
       "75%    5.222500e+06  \n",
       "max    8.596434e+08  "
      ]
     },
     "execution_count": 11,
     "metadata": {},
     "output_type": "execute_result"
    }
   ],
   "source": [
    "df.describe()"
   ]
  },
  {
   "cell_type": "code",
   "execution_count": 12,
   "id": "5c04e51d",
   "metadata": {},
   "outputs": [
    {
     "data": {
      "text/plain": [
       "date      0\n",
       "symbol    0\n",
       "open      0\n",
       "close     0\n",
       "low       0\n",
       "high      0\n",
       "volume    0\n",
       "dtype: int64"
      ]
     },
     "execution_count": 12,
     "metadata": {},
     "output_type": "execute_result"
    }
   ],
   "source": [
    "df.isnull().sum()"
   ]
  },
  {
   "cell_type": "code",
   "execution_count": 13,
   "id": "136bc72b",
   "metadata": {},
   "outputs": [
    {
     "data": {
      "text/plain": [
       "array(['2016-01-05 00:00:00', '2016-01-06 00:00:00',\n",
       "       '2016-01-07 00:00:00', ..., '2016-12-28', '2016-12-29',\n",
       "       '2016-12-30'], dtype=object)"
      ]
     },
     "execution_count": 13,
     "metadata": {},
     "output_type": "execute_result"
    }
   ],
   "source": [
    "df.date.unique()"
   ]
  },
  {
   "cell_type": "code",
   "execution_count": 14,
   "id": "4d45389e",
   "metadata": {},
   "outputs": [
    {
     "data": {
      "text/html": [
       "<div>\n",
       "<style scoped>\n",
       "    .dataframe tbody tr th:only-of-type {\n",
       "        vertical-align: middle;\n",
       "    }\n",
       "\n",
       "    .dataframe tbody tr th {\n",
       "        vertical-align: top;\n",
       "    }\n",
       "\n",
       "    .dataframe thead th {\n",
       "        text-align: right;\n",
       "    }\n",
       "</style>\n",
       "<table border=\"1\" class=\"dataframe\">\n",
       "  <thead>\n",
       "    <tr style=\"text-align: right;\">\n",
       "      <th></th>\n",
       "      <th>0</th>\n",
       "    </tr>\n",
       "  </thead>\n",
       "  <tbody>\n",
       "    <tr>\n",
       "      <th>0</th>\n",
       "      <td>2016-01-05 00:00:00</td>\n",
       "    </tr>\n",
       "    <tr>\n",
       "      <th>1</th>\n",
       "      <td>2016-01-06 00:00:00</td>\n",
       "    </tr>\n",
       "    <tr>\n",
       "      <th>2</th>\n",
       "      <td>2016-01-07 00:00:00</td>\n",
       "    </tr>\n",
       "    <tr>\n",
       "      <th>3</th>\n",
       "      <td>2016-01-08 00:00:00</td>\n",
       "    </tr>\n",
       "    <tr>\n",
       "      <th>4</th>\n",
       "      <td>2016-01-11 00:00:00</td>\n",
       "    </tr>\n",
       "    <tr>\n",
       "      <th>...</th>\n",
       "      <td>...</td>\n",
       "    </tr>\n",
       "    <tr>\n",
       "      <th>3519</th>\n",
       "      <td>2016-12-23</td>\n",
       "    </tr>\n",
       "    <tr>\n",
       "      <th>3520</th>\n",
       "      <td>2016-12-27</td>\n",
       "    </tr>\n",
       "    <tr>\n",
       "      <th>3521</th>\n",
       "      <td>2016-12-28</td>\n",
       "    </tr>\n",
       "    <tr>\n",
       "      <th>3522</th>\n",
       "      <td>2016-12-29</td>\n",
       "    </tr>\n",
       "    <tr>\n",
       "      <th>3523</th>\n",
       "      <td>2016-12-30</td>\n",
       "    </tr>\n",
       "  </tbody>\n",
       "</table>\n",
       "<p>3524 rows × 1 columns</p>\n",
       "</div>"
      ],
      "text/plain": [
       "                        0\n",
       "0     2016-01-05 00:00:00\n",
       "1     2016-01-06 00:00:00\n",
       "2     2016-01-07 00:00:00\n",
       "3     2016-01-08 00:00:00\n",
       "4     2016-01-11 00:00:00\n",
       "...                   ...\n",
       "3519           2016-12-23\n",
       "3520           2016-12-27\n",
       "3521           2016-12-28\n",
       "3522           2016-12-29\n",
       "3523           2016-12-30\n",
       "\n",
       "[3524 rows x 1 columns]"
      ]
     },
     "execution_count": 14,
     "metadata": {},
     "output_type": "execute_result"
    }
   ],
   "source": [
    "pd.DataFrame(df.date.unique())"
   ]
  },
  {
   "cell_type": "code",
   "execution_count": 15,
   "id": "7d83141f",
   "metadata": {},
   "outputs": [
    {
     "data": {
      "text/plain": [
       "0"
      ]
     },
     "execution_count": 15,
     "metadata": {},
     "output_type": "execute_result"
    }
   ],
   "source": [
    "df.duplicated().sum()"
   ]
  },
  {
   "cell_type": "code",
   "execution_count": 16,
   "id": "9f62d268",
   "metadata": {},
   "outputs": [
    {
     "data": {
      "text/html": [
       "<div>\n",
       "<style scoped>\n",
       "    .dataframe tbody tr th:only-of-type {\n",
       "        vertical-align: middle;\n",
       "    }\n",
       "\n",
       "    .dataframe tbody tr th {\n",
       "        vertical-align: top;\n",
       "    }\n",
       "\n",
       "    .dataframe thead th {\n",
       "        text-align: right;\n",
       "    }\n",
       "</style>\n",
       "<table border=\"1\" class=\"dataframe\">\n",
       "  <thead>\n",
       "    <tr style=\"text-align: right;\">\n",
       "      <th></th>\n",
       "      <th>Ticker symbol</th>\n",
       "      <th>Security</th>\n",
       "      <th>SEC filings</th>\n",
       "      <th>GICS Sector</th>\n",
       "      <th>GICS Sub Industry</th>\n",
       "      <th>Address of Headquarters</th>\n",
       "      <th>Date first added</th>\n",
       "      <th>CIK</th>\n",
       "    </tr>\n",
       "  </thead>\n",
       "  <tbody>\n",
       "    <tr>\n",
       "      <th>0</th>\n",
       "      <td>MMM</td>\n",
       "      <td>3M Company</td>\n",
       "      <td>reports</td>\n",
       "      <td>Industrials</td>\n",
       "      <td>Industrial Conglomerates</td>\n",
       "      <td>St. Paul, Minnesota</td>\n",
       "      <td>NaN</td>\n",
       "      <td>66740</td>\n",
       "    </tr>\n",
       "    <tr>\n",
       "      <th>1</th>\n",
       "      <td>ABT</td>\n",
       "      <td>Abbott Laboratories</td>\n",
       "      <td>reports</td>\n",
       "      <td>Health Care</td>\n",
       "      <td>Health Care Equipment</td>\n",
       "      <td>North Chicago, Illinois</td>\n",
       "      <td>31-03-1964</td>\n",
       "      <td>1800</td>\n",
       "    </tr>\n",
       "    <tr>\n",
       "      <th>2</th>\n",
       "      <td>ABBV</td>\n",
       "      <td>AbbVie</td>\n",
       "      <td>reports</td>\n",
       "      <td>Health Care</td>\n",
       "      <td>Pharmaceuticals</td>\n",
       "      <td>North Chicago, Illinois</td>\n",
       "      <td>31-12-2012</td>\n",
       "      <td>1551152</td>\n",
       "    </tr>\n",
       "    <tr>\n",
       "      <th>3</th>\n",
       "      <td>ACN</td>\n",
       "      <td>Accenture plc</td>\n",
       "      <td>reports</td>\n",
       "      <td>Information Technology</td>\n",
       "      <td>IT Consulting &amp; Other Services</td>\n",
       "      <td>Dublin, Ireland</td>\n",
       "      <td>06-07-2011</td>\n",
       "      <td>1467373</td>\n",
       "    </tr>\n",
       "    <tr>\n",
       "      <th>4</th>\n",
       "      <td>ATVI</td>\n",
       "      <td>Activision Blizzard</td>\n",
       "      <td>reports</td>\n",
       "      <td>Information Technology</td>\n",
       "      <td>Home Entertainment Software</td>\n",
       "      <td>Santa Monica, California</td>\n",
       "      <td>31-08-2015</td>\n",
       "      <td>718877</td>\n",
       "    </tr>\n",
       "    <tr>\n",
       "      <th>...</th>\n",
       "      <td>...</td>\n",
       "      <td>...</td>\n",
       "      <td>...</td>\n",
       "      <td>...</td>\n",
       "      <td>...</td>\n",
       "      <td>...</td>\n",
       "      <td>...</td>\n",
       "      <td>...</td>\n",
       "    </tr>\n",
       "    <tr>\n",
       "      <th>500</th>\n",
       "      <td>YHOO</td>\n",
       "      <td>Yahoo Inc.</td>\n",
       "      <td>reports</td>\n",
       "      <td>Information Technology</td>\n",
       "      <td>Internet Software &amp; Services</td>\n",
       "      <td>Sunnyvale, California</td>\n",
       "      <td>NaN</td>\n",
       "      <td>1011006</td>\n",
       "    </tr>\n",
       "    <tr>\n",
       "      <th>501</th>\n",
       "      <td>YUM</td>\n",
       "      <td>Yum! Brands Inc</td>\n",
       "      <td>reports</td>\n",
       "      <td>Consumer Discretionary</td>\n",
       "      <td>Restaurants</td>\n",
       "      <td>Louisville, Kentucky</td>\n",
       "      <td>06-10-1997</td>\n",
       "      <td>1041061</td>\n",
       "    </tr>\n",
       "    <tr>\n",
       "      <th>502</th>\n",
       "      <td>ZBH</td>\n",
       "      <td>Zimmer Biomet Holdings</td>\n",
       "      <td>reports</td>\n",
       "      <td>Health Care</td>\n",
       "      <td>Health Care Equipment</td>\n",
       "      <td>Warsaw, Indiana</td>\n",
       "      <td>NaN</td>\n",
       "      <td>1136869</td>\n",
       "    </tr>\n",
       "    <tr>\n",
       "      <th>503</th>\n",
       "      <td>ZION</td>\n",
       "      <td>Zions Bancorp</td>\n",
       "      <td>reports</td>\n",
       "      <td>Financials</td>\n",
       "      <td>Regional Banks</td>\n",
       "      <td>Salt Lake City, Utah</td>\n",
       "      <td>NaN</td>\n",
       "      <td>109380</td>\n",
       "    </tr>\n",
       "    <tr>\n",
       "      <th>504</th>\n",
       "      <td>ZTS</td>\n",
       "      <td>Zoetis</td>\n",
       "      <td>reports</td>\n",
       "      <td>Health Care</td>\n",
       "      <td>Pharmaceuticals</td>\n",
       "      <td>Florham Park, New Jersey</td>\n",
       "      <td>21-06-2013</td>\n",
       "      <td>1555280</td>\n",
       "    </tr>\n",
       "  </tbody>\n",
       "</table>\n",
       "<p>505 rows × 8 columns</p>\n",
       "</div>"
      ],
      "text/plain": [
       "    Ticker symbol                Security SEC filings             GICS Sector  \\\n",
       "0             MMM              3M Company     reports             Industrials   \n",
       "1             ABT     Abbott Laboratories     reports             Health Care   \n",
       "2            ABBV                  AbbVie     reports             Health Care   \n",
       "3             ACN           Accenture plc     reports  Information Technology   \n",
       "4            ATVI     Activision Blizzard     reports  Information Technology   \n",
       "..            ...                     ...         ...                     ...   \n",
       "500          YHOO              Yahoo Inc.     reports  Information Technology   \n",
       "501           YUM         Yum! Brands Inc     reports  Consumer Discretionary   \n",
       "502           ZBH  Zimmer Biomet Holdings     reports             Health Care   \n",
       "503          ZION           Zions Bancorp     reports              Financials   \n",
       "504           ZTS                  Zoetis     reports             Health Care   \n",
       "\n",
       "                  GICS Sub Industry   Address of Headquarters  \\\n",
       "0          Industrial Conglomerates       St. Paul, Minnesota   \n",
       "1             Health Care Equipment   North Chicago, Illinois   \n",
       "2                   Pharmaceuticals   North Chicago, Illinois   \n",
       "3    IT Consulting & Other Services           Dublin, Ireland   \n",
       "4       Home Entertainment Software  Santa Monica, California   \n",
       "..                              ...                       ...   \n",
       "500    Internet Software & Services     Sunnyvale, California   \n",
       "501                     Restaurants      Louisville, Kentucky   \n",
       "502           Health Care Equipment           Warsaw, Indiana   \n",
       "503                  Regional Banks      Salt Lake City, Utah   \n",
       "504                 Pharmaceuticals  Florham Park, New Jersey   \n",
       "\n",
       "    Date first added      CIK  \n",
       "0                NaN    66740  \n",
       "1         31-03-1964     1800  \n",
       "2         31-12-2012  1551152  \n",
       "3         06-07-2011  1467373  \n",
       "4         31-08-2015   718877  \n",
       "..               ...      ...  \n",
       "500              NaN  1011006  \n",
       "501       06-10-1997  1041061  \n",
       "502              NaN  1136869  \n",
       "503              NaN   109380  \n",
       "504       21-06-2013  1555280  \n",
       "\n",
       "[505 rows x 8 columns]"
      ]
     },
     "execution_count": 16,
     "metadata": {},
     "output_type": "execute_result"
    }
   ],
   "source": [
    "comp_info = pd.read_csv('C:\\\\Users\\\\kazia\\\\Downloads\\\\securities.csv')\n",
    "comp_info"
   ]
  },
  {
   "cell_type": "code",
   "execution_count": 17,
   "id": "14d24f75",
   "metadata": {},
   "outputs": [
    {
     "data": {
      "text/plain": [
       "array(['MMM', 'ABT', 'ABBV', 'ACN', 'ATVI', 'AYI', 'ADBE', 'AAP', 'AES',\n",
       "       'AET', 'AMG', 'AFL', 'A', 'APD', 'AKAM', 'ALK', 'ALB', 'ALXN',\n",
       "       'ALLE', 'AGN', 'ADS', 'LNT', 'ALL', 'GOOGL', 'GOOG', 'MO', 'AMZN',\n",
       "       'AEE', 'AAL', 'AEP', 'AXP', 'AIG', 'AMT', 'AWK', 'AMP', 'ABC',\n",
       "       'AME', 'AMGN', 'APH', 'APC', 'ADI', 'ANTM', 'AON', 'APA', 'AIV',\n",
       "       'AAPL', 'AMAT', 'ADM', 'ARNC', 'AJG', 'AIZ', 'T', 'ADSK', 'ADP',\n",
       "       'AN', 'AZO', 'AVB', 'AVY', 'BHI', 'BLL', 'BAC', 'BCR', 'BAX',\n",
       "       'BBT', 'BDX', 'BBBY', 'BRK.B', 'BBY', 'BIIB', 'BLK', 'HRB', 'BA',\n",
       "       'BWA', 'BXP', 'BSX', 'BMY', 'AVGO', 'BF.B', 'CHRW', 'CA', 'COG',\n",
       "       'CPB', 'COF', 'CAH', 'KMX', 'CCL', 'CAT', 'CBG', 'CBS', 'CELG',\n",
       "       'CNC', 'CNP', 'CTL', 'CERN', 'CF', 'SCHW', 'CHTR', 'CHK', 'CVX',\n",
       "       'CMG', 'CB', 'CHD', 'CI', 'XEC', 'CINF', 'CTAS', 'CSCO', 'C',\n",
       "       'CFG', 'CTXS', 'CME', 'CMS', 'COH', 'KO', 'CTSH', 'CL', 'CMCSA',\n",
       "       'CMA', 'CAG', 'CXO', 'COP', 'ED', 'STZ', 'GLW', 'COST', 'COTY',\n",
       "       'CCI', 'CSRA', 'CSX', 'CMI', 'CVS', 'DHI', 'DHR', 'DRI', 'DVA',\n",
       "       'DE', 'DLPH', 'DAL', 'XRAY', 'DVN', 'DLR', 'DFS', 'DISCA', 'DISCK',\n",
       "       'DG', 'DLTR', 'D', 'DOV', 'DOW', 'DPS', 'DTE', 'DD', 'DUK', 'DNB',\n",
       "       'ETFC', 'EMN', 'ETN', 'EBAY', 'ECL', 'EIX', 'EW', 'EA', 'EMR',\n",
       "       'ENDP', 'ETR', 'EVHC', 'EOG', 'EQT', 'EFX', 'EQIX', 'EQR', 'ESS',\n",
       "       'EL', 'ES', 'EXC', 'EXPE', 'EXPD', 'ESRX', 'EXR', 'XOM', 'FFIV',\n",
       "       'FB', 'FAST', 'FRT', 'FDX', 'FIS', 'FITB', 'FSLR', 'FE', 'FISV',\n",
       "       'FLIR', 'FLS', 'FLR', 'FMC', 'FTI', 'FL', 'F', 'FTV', 'FBHS',\n",
       "       'BEN', 'FCX', 'FTR', 'GPS', 'GRMN', 'GD', 'GE', 'GGP', 'GIS', 'GM',\n",
       "       'GPC', 'GILD', 'GPN', 'GS', 'GT', 'GWW', 'HAL', 'HBI', 'HOG',\n",
       "       'HAR', 'HRS', 'HIG', 'HAS', 'HCA', 'HCP', 'HP', 'HSIC', 'HES',\n",
       "       'HPE', 'HOLX', 'HD', 'HON', 'HRL', 'HST', 'HPQ', 'HUM', 'HBAN',\n",
       "       'IDXX', 'ITW', 'ILMN', 'IR', 'INTC', 'ICE', 'IBM', 'IP', 'IPG',\n",
       "       'IFF', 'INTU', 'ISRG', 'IVZ', 'IRM', 'JBHT', 'JEC', 'SJM', 'JNJ',\n",
       "       'JCI', 'JPM', 'JNPR', 'KSU', 'K', 'KEY', 'KMB', 'KIM', 'KMI',\n",
       "       'KLAC', 'KSS', 'KHC', 'KR', 'LB', 'LLL', 'LH', 'LRCX', 'LEG',\n",
       "       'LEN', 'LUK', 'LVLT', 'LLY', 'LNC', 'LLTC', 'LKQ', 'LMT', 'L',\n",
       "       'LOW', 'LYB', 'MTB', 'MAC', 'M', 'MNK', 'MRO', 'MPC', 'MAR', 'MMC',\n",
       "       'MLM', 'MAS', 'MA', 'MAT', 'MKC', 'MCD', 'MCK', 'MJN', 'MDT',\n",
       "       'MRK', 'MET', 'MTD', 'KORS', 'MCHP', 'MU', 'MSFT', 'MAA', 'MHK',\n",
       "       'TAP', 'MDLZ', 'MON', 'MNST', 'MCO', 'MS', 'MSI', 'MUR', 'MYL',\n",
       "       'NDAQ', 'NOV', 'NAVI', 'NTAP', 'NFLX', 'NWL', 'NFX', 'NEM', 'NWSA',\n",
       "       'NWS', 'NEE', 'NLSN', 'NKE', 'NI', 'NBL', 'JWN', 'NSC', 'NTRS',\n",
       "       'NOC', 'NRG', 'NUE', 'NVDA', 'ORLY', 'OXY', 'OMC', 'OKE', 'ORCL',\n",
       "       'PCAR', 'PH', 'PDCO', 'PAYX', 'PYPL', 'PNR', 'PBCT', 'PEP', 'PKI',\n",
       "       'PRGO', 'PFE', 'PCG', 'PM', 'PSX', 'PNW', 'PXD', 'PBI', 'PNC',\n",
       "       'RL', 'PPG', 'PPL', 'PX', 'PCLN', 'PFG', 'PG', 'PGR', 'PLD', 'PRU',\n",
       "       'PEG', 'PSA', 'PHM', 'PVH', 'QRVO', 'QCOM', 'PWR', 'DGX', 'RRC',\n",
       "       'RTN', 'O', 'RHT', 'REGN', 'RF', 'RSG', 'RAI', 'RHI', 'ROK', 'COL',\n",
       "       'ROP', 'ROST', 'RCL', 'R', 'SPGI', 'CRM', 'SCG', 'SLB', 'SNI',\n",
       "       'STX', 'SEE', 'SRE', 'SHW', 'SIG', 'SPG', 'SWKS', 'SLG', 'SNA',\n",
       "       'SO', 'LUV', 'SWN', 'SE', 'SWK', 'SPLS', 'SBUX', 'STT', 'SRCL',\n",
       "       'SYK', 'STI', 'SYMC', 'SYF', 'SYY', 'TROW', 'TGT', 'TEL', 'TGNA',\n",
       "       'TDC', 'TSO', 'TXN', 'TXT', 'BK', 'CLX', 'COO', 'HSY', 'MOS',\n",
       "       'TRV', 'DIS', 'TMO', 'TIF', 'TWX', 'TJX', 'TMK', 'TSS', 'TSCO',\n",
       "       'TDG', 'RIG', 'TRIP', 'FOXA', 'FOX', 'TSN', 'USB', 'UDR', 'ULTA',\n",
       "       'UA', 'UAA', 'UNP', 'UAL', 'UNH', 'UPS', 'URI', 'UTX', 'UHS',\n",
       "       'UNM', 'URBN', 'VFC', 'VLO', 'VAR', 'VTR', 'VRSN', 'VRSK', 'VZ',\n",
       "       'VRTX', 'VIAB', 'V', 'VNO', 'VMC', 'WMT', 'WBA', 'WM', 'WAT',\n",
       "       'WEC', 'WFC', 'HCN', 'WDC', 'WU', 'WRK', 'WY', 'WHR', 'WFM', 'WMB',\n",
       "       'WLTW', 'WYN', 'WYNN', 'XEL', 'XRX', 'XLNX', 'XL', 'XYL', 'YHOO',\n",
       "       'YUM', 'ZBH', 'ZION', 'ZTS'], dtype=object)"
      ]
     },
     "execution_count": 17,
     "metadata": {},
     "output_type": "execute_result"
    }
   ],
   "source": [
    "comp_info[\"Ticker symbol\"].unique()"
   ]
  },
  {
   "cell_type": "code",
   "execution_count": 18,
   "id": "f0707301",
   "metadata": {},
   "outputs": [
    {
     "data": {
      "text/plain": [
       "505"
      ]
     },
     "execution_count": 18,
     "metadata": {},
     "output_type": "execute_result"
    }
   ],
   "source": [
    "comp_info[\"Ticker symbol\"].nunique()"
   ]
  },
  {
   "cell_type": "code",
   "execution_count": 19,
   "id": "ea29e197",
   "metadata": {},
   "outputs": [
    {
     "name": "stdout",
     "output_type": "stream",
     "text": [
      "<class 'pandas.core.frame.DataFrame'>\n",
      "RangeIndex: 505 entries, 0 to 504\n",
      "Data columns (total 8 columns):\n",
      " #   Column                   Non-Null Count  Dtype \n",
      "---  ------                   --------------  ----- \n",
      " 0   Ticker symbol            505 non-null    object\n",
      " 1   Security                 505 non-null    object\n",
      " 2   SEC filings              505 non-null    object\n",
      " 3   GICS Sector              505 non-null    object\n",
      " 4   GICS Sub Industry        505 non-null    object\n",
      " 5   Address of Headquarters  505 non-null    object\n",
      " 6   Date first added         307 non-null    object\n",
      " 7   CIK                      505 non-null    int64 \n",
      "dtypes: int64(1), object(7)\n",
      "memory usage: 31.7+ KB\n"
     ]
    }
   ],
   "source": [
    "comp_info.info()"
   ]
  },
  {
   "cell_type": "code",
   "execution_count": 20,
   "id": "39af0777",
   "metadata": {},
   "outputs": [
    {
     "data": {
      "text/plain": [
       "Ticker symbol                0\n",
       "Security                     0\n",
       "SEC filings                  0\n",
       "GICS Sector                  0\n",
       "GICS Sub Industry            0\n",
       "Address of Headquarters      0\n",
       "Date first added           198\n",
       "CIK                          0\n",
       "dtype: int64"
      ]
     },
     "execution_count": 20,
     "metadata": {},
     "output_type": "execute_result"
    }
   ],
   "source": [
    "comp_info.isnull().sum()"
   ]
  },
  {
   "cell_type": "code",
   "execution_count": 21,
   "id": "476db3b3",
   "metadata": {},
   "outputs": [
    {
     "data": {
      "text/html": [
       "<div>\n",
       "<style scoped>\n",
       "    .dataframe tbody tr th:only-of-type {\n",
       "        vertical-align: middle;\n",
       "    }\n",
       "\n",
       "    .dataframe tbody tr th {\n",
       "        vertical-align: top;\n",
       "    }\n",
       "\n",
       "    .dataframe thead th {\n",
       "        text-align: right;\n",
       "    }\n",
       "</style>\n",
       "<table border=\"1\" class=\"dataframe\">\n",
       "  <thead>\n",
       "    <tr style=\"text-align: right;\">\n",
       "      <th></th>\n",
       "      <th>CIK</th>\n",
       "    </tr>\n",
       "  </thead>\n",
       "  <tbody>\n",
       "    <tr>\n",
       "      <th>count</th>\n",
       "      <td>5.050000e+02</td>\n",
       "    </tr>\n",
       "    <tr>\n",
       "      <th>mean</th>\n",
       "      <td>7.074490e+05</td>\n",
       "    </tr>\n",
       "    <tr>\n",
       "      <th>std</th>\n",
       "      <td>5.144375e+05</td>\n",
       "    </tr>\n",
       "    <tr>\n",
       "      <th>min</th>\n",
       "      <td>1.800000e+03</td>\n",
       "    </tr>\n",
       "    <tr>\n",
       "      <th>25%</th>\n",
       "      <td>8.631200e+04</td>\n",
       "    </tr>\n",
       "    <tr>\n",
       "      <th>50%</th>\n",
       "      <td>8.310010e+05</td>\n",
       "    </tr>\n",
       "    <tr>\n",
       "      <th>75%</th>\n",
       "      <td>1.075531e+06</td>\n",
       "    </tr>\n",
       "    <tr>\n",
       "      <th>max</th>\n",
       "      <td>1.659166e+06</td>\n",
       "    </tr>\n",
       "  </tbody>\n",
       "</table>\n",
       "</div>"
      ],
      "text/plain": [
       "                CIK\n",
       "count  5.050000e+02\n",
       "mean   7.074490e+05\n",
       "std    5.144375e+05\n",
       "min    1.800000e+03\n",
       "25%    8.631200e+04\n",
       "50%    8.310010e+05\n",
       "75%    1.075531e+06\n",
       "max    1.659166e+06"
      ]
     },
     "execution_count": 21,
     "metadata": {},
     "output_type": "execute_result"
    }
   ],
   "source": [
    "comp_info.describe()"
   ]
  },
  {
   "cell_type": "code",
   "execution_count": 22,
   "id": "625b2f8e",
   "metadata": {},
   "outputs": [
    {
     "data": {
      "text/html": [
       "<div>\n",
       "<style scoped>\n",
       "    .dataframe tbody tr th:only-of-type {\n",
       "        vertical-align: middle;\n",
       "    }\n",
       "\n",
       "    .dataframe tbody tr th {\n",
       "        vertical-align: top;\n",
       "    }\n",
       "\n",
       "    .dataframe thead th {\n",
       "        text-align: right;\n",
       "    }\n",
       "</style>\n",
       "<table border=\"1\" class=\"dataframe\">\n",
       "  <thead>\n",
       "    <tr style=\"text-align: right;\">\n",
       "      <th></th>\n",
       "      <th>Ticker symbol</th>\n",
       "      <th>Security</th>\n",
       "      <th>SEC filings</th>\n",
       "      <th>GICS Sector</th>\n",
       "      <th>GICS Sub Industry</th>\n",
       "      <th>Address of Headquarters</th>\n",
       "      <th>Date first added</th>\n",
       "      <th>CIK</th>\n",
       "    </tr>\n",
       "  </thead>\n",
       "  <tbody>\n",
       "    <tr>\n",
       "      <th>45</th>\n",
       "      <td>AAPL</td>\n",
       "      <td>Apple Inc.</td>\n",
       "      <td>reports</td>\n",
       "      <td>Information Technology</td>\n",
       "      <td>Computer Hardware</td>\n",
       "      <td>Cupertino, California</td>\n",
       "      <td>30-11-1982</td>\n",
       "      <td>320193</td>\n",
       "    </tr>\n",
       "  </tbody>\n",
       "</table>\n",
       "</div>"
      ],
      "text/plain": [
       "   Ticker symbol    Security SEC filings             GICS Sector  \\\n",
       "45          AAPL  Apple Inc.     reports  Information Technology   \n",
       "\n",
       "    GICS Sub Industry Address of Headquarters Date first added     CIK  \n",
       "45  Computer Hardware   Cupertino, California       30-11-1982  320193  "
      ]
     },
     "execution_count": 22,
     "metadata": {},
     "output_type": "execute_result"
    }
   ],
   "source": [
    "comp_info.loc[comp_info.Security.str.startswith('Apple') , :]"
   ]
  },
  {
   "cell_type": "code",
   "execution_count": 23,
   "id": "71af610d",
   "metadata": {},
   "outputs": [
    {
     "data": {
      "text/html": [
       "<div>\n",
       "<style scoped>\n",
       "    .dataframe tbody tr th:only-of-type {\n",
       "        vertical-align: middle;\n",
       "    }\n",
       "\n",
       "    .dataframe tbody tr th {\n",
       "        vertical-align: top;\n",
       "    }\n",
       "\n",
       "    .dataframe thead th {\n",
       "        text-align: right;\n",
       "    }\n",
       "</style>\n",
       "<table border=\"1\" class=\"dataframe\">\n",
       "  <thead>\n",
       "    <tr style=\"text-align: right;\">\n",
       "      <th></th>\n",
       "      <th>Ticker symbol</th>\n",
       "      <th>Security</th>\n",
       "      <th>SEC filings</th>\n",
       "      <th>GICS Sector</th>\n",
       "      <th>GICS Sub Industry</th>\n",
       "      <th>Address of Headquarters</th>\n",
       "      <th>Date first added</th>\n",
       "      <th>CIK</th>\n",
       "    </tr>\n",
       "  </thead>\n",
       "  <tbody>\n",
       "  </tbody>\n",
       "</table>\n",
       "</div>"
      ],
      "text/plain": [
       "Empty DataFrame\n",
       "Columns: [Ticker symbol, Security, SEC filings, GICS Sector, GICS Sub Industry, Address of Headquarters, Date first added, CIK]\n",
       "Index: []"
      ]
     },
     "execution_count": 23,
     "metadata": {},
     "output_type": "execute_result"
    }
   ],
   "source": [
    "comp_info.loc[comp_info.Security.str.startswith('Google') , :]"
   ]
  },
  {
   "cell_type": "code",
   "execution_count": 24,
   "id": "4aa9fa69",
   "metadata": {},
   "outputs": [
    {
     "data": {
      "text/html": [
       "<div>\n",
       "<style scoped>\n",
       "    .dataframe tbody tr th:only-of-type {\n",
       "        vertical-align: middle;\n",
       "    }\n",
       "\n",
       "    .dataframe tbody tr th {\n",
       "        vertical-align: top;\n",
       "    }\n",
       "\n",
       "    .dataframe thead th {\n",
       "        text-align: right;\n",
       "    }\n",
       "</style>\n",
       "<table border=\"1\" class=\"dataframe\">\n",
       "  <thead>\n",
       "    <tr style=\"text-align: right;\">\n",
       "      <th></th>\n",
       "      <th>Ticker symbol</th>\n",
       "      <th>Security</th>\n",
       "      <th>SEC filings</th>\n",
       "      <th>GICS Sector</th>\n",
       "      <th>GICS Sub Industry</th>\n",
       "      <th>Address of Headquarters</th>\n",
       "      <th>Date first added</th>\n",
       "      <th>CIK</th>\n",
       "    </tr>\n",
       "  </thead>\n",
       "  <tbody>\n",
       "    <tr>\n",
       "      <th>304</th>\n",
       "      <td>MCHP</td>\n",
       "      <td>Microchip Technology</td>\n",
       "      <td>reports</td>\n",
       "      <td>Information Technology</td>\n",
       "      <td>Semiconductors</td>\n",
       "      <td>Chandler, Arizona</td>\n",
       "      <td>07-09-2007</td>\n",
       "      <td>827054</td>\n",
       "    </tr>\n",
       "    <tr>\n",
       "      <th>305</th>\n",
       "      <td>MU</td>\n",
       "      <td>Micron Technology</td>\n",
       "      <td>reports</td>\n",
       "      <td>Information Technology</td>\n",
       "      <td>Semiconductors</td>\n",
       "      <td>Boise, Idaho</td>\n",
       "      <td>27-09-1994</td>\n",
       "      <td>723125</td>\n",
       "    </tr>\n",
       "    <tr>\n",
       "      <th>306</th>\n",
       "      <td>MSFT</td>\n",
       "      <td>Microsoft Corp.</td>\n",
       "      <td>reports</td>\n",
       "      <td>Information Technology</td>\n",
       "      <td>Systems Software</td>\n",
       "      <td>Redmond, Washington</td>\n",
       "      <td>01-06-1994</td>\n",
       "      <td>789019</td>\n",
       "    </tr>\n",
       "  </tbody>\n",
       "</table>\n",
       "</div>"
      ],
      "text/plain": [
       "    Ticker symbol              Security SEC filings             GICS Sector  \\\n",
       "304          MCHP  Microchip Technology     reports  Information Technology   \n",
       "305            MU     Micron Technology     reports  Information Technology   \n",
       "306          MSFT       Microsoft Corp.     reports  Information Technology   \n",
       "\n",
       "    GICS Sub Industry Address of Headquarters Date first added     CIK  \n",
       "304    Semiconductors       Chandler, Arizona       07-09-2007  827054  \n",
       "305    Semiconductors            Boise, Idaho       27-09-1994  723125  \n",
       "306  Systems Software     Redmond, Washington       01-06-1994  789019  "
      ]
     },
     "execution_count": 24,
     "metadata": {},
     "output_type": "execute_result"
    }
   ],
   "source": [
    "comp_info.loc[comp_info.Security.str.startswith('Micro') , :]"
   ]
  },
  {
   "cell_type": "code",
   "execution_count": 25,
   "id": "8893e1a3",
   "metadata": {},
   "outputs": [
    {
     "data": {
      "text/html": [
       "<div>\n",
       "<style scoped>\n",
       "    .dataframe tbody tr th:only-of-type {\n",
       "        vertical-align: middle;\n",
       "    }\n",
       "\n",
       "    .dataframe tbody tr th {\n",
       "        vertical-align: top;\n",
       "    }\n",
       "\n",
       "    .dataframe thead th {\n",
       "        text-align: right;\n",
       "    }\n",
       "</style>\n",
       "<table border=\"1\" class=\"dataframe\">\n",
       "  <thead>\n",
       "    <tr style=\"text-align: right;\">\n",
       "      <th></th>\n",
       "      <th>Ticker symbol</th>\n",
       "      <th>Security</th>\n",
       "      <th>SEC filings</th>\n",
       "      <th>GICS Sector</th>\n",
       "      <th>GICS Sub Industry</th>\n",
       "      <th>Address of Headquarters</th>\n",
       "      <th>Date first added</th>\n",
       "      <th>CIK</th>\n",
       "    </tr>\n",
       "  </thead>\n",
       "  <tbody>\n",
       "    <tr>\n",
       "      <th>344</th>\n",
       "      <td>ORCL</td>\n",
       "      <td>Oracle Corp.</td>\n",
       "      <td>reports</td>\n",
       "      <td>Information Technology</td>\n",
       "      <td>Application Software</td>\n",
       "      <td>Redwood Shores, California</td>\n",
       "      <td>31-08-1989</td>\n",
       "      <td>1341439</td>\n",
       "    </tr>\n",
       "  </tbody>\n",
       "</table>\n",
       "</div>"
      ],
      "text/plain": [
       "    Ticker symbol      Security SEC filings             GICS Sector  \\\n",
       "344          ORCL  Oracle Corp.     reports  Information Technology   \n",
       "\n",
       "        GICS Sub Industry     Address of Headquarters Date first added  \\\n",
       "344  Application Software  Redwood Shores, California       31-08-1989   \n",
       "\n",
       "         CIK  \n",
       "344  1341439  "
      ]
     },
     "execution_count": 25,
     "metadata": {},
     "output_type": "execute_result"
    }
   ],
   "source": [
    "comp_info.loc[comp_info.Security.str.startswith('Oracle') , :]"
   ]
  },
  {
   "cell_type": "code",
   "execution_count": 26,
   "id": "34eaeda9",
   "metadata": {},
   "outputs": [
    {
     "data": {
      "text/html": [
       "<div>\n",
       "<style scoped>\n",
       "    .dataframe tbody tr th:only-of-type {\n",
       "        vertical-align: middle;\n",
       "    }\n",
       "\n",
       "    .dataframe tbody tr th {\n",
       "        vertical-align: top;\n",
       "    }\n",
       "\n",
       "    .dataframe thead th {\n",
       "        text-align: right;\n",
       "    }\n",
       "</style>\n",
       "<table border=\"1\" class=\"dataframe\">\n",
       "  <thead>\n",
       "    <tr style=\"text-align: right;\">\n",
       "      <th></th>\n",
       "      <th>Ticker symbol</th>\n",
       "      <th>Security</th>\n",
       "      <th>SEC filings</th>\n",
       "      <th>GICS Sector</th>\n",
       "      <th>GICS Sub Industry</th>\n",
       "      <th>Address of Headquarters</th>\n",
       "      <th>Date first added</th>\n",
       "      <th>CIK</th>\n",
       "    </tr>\n",
       "  </thead>\n",
       "  <tbody>\n",
       "    <tr>\n",
       "      <th>339</th>\n",
       "      <td>NVDA</td>\n",
       "      <td>Nvidia Corporation</td>\n",
       "      <td>reports</td>\n",
       "      <td>Information Technology</td>\n",
       "      <td>Semiconductors</td>\n",
       "      <td>Santa Clara, California</td>\n",
       "      <td>NaN</td>\n",
       "      <td>1045810</td>\n",
       "    </tr>\n",
       "  </tbody>\n",
       "</table>\n",
       "</div>"
      ],
      "text/plain": [
       "    Ticker symbol            Security SEC filings             GICS Sector  \\\n",
       "339          NVDA  Nvidia Corporation     reports  Information Technology   \n",
       "\n",
       "    GICS Sub Industry  Address of Headquarters Date first added      CIK  \n",
       "339    Semiconductors  Santa Clara, California              NaN  1045810  "
      ]
     },
     "execution_count": 26,
     "metadata": {},
     "output_type": "execute_result"
    }
   ],
   "source": [
    "comp_info.loc[comp_info.Security.str.startswith('Nvidia') , :]"
   ]
  },
  {
   "cell_type": "code",
   "execution_count": 27,
   "id": "7374d64a",
   "metadata": {},
   "outputs": [
    {
     "data": {
      "text/html": [
       "<div>\n",
       "<style scoped>\n",
       "    .dataframe tbody tr th:only-of-type {\n",
       "        vertical-align: middle;\n",
       "    }\n",
       "\n",
       "    .dataframe tbody tr th {\n",
       "        vertical-align: top;\n",
       "    }\n",
       "\n",
       "    .dataframe thead th {\n",
       "        text-align: right;\n",
       "    }\n",
       "</style>\n",
       "<table border=\"1\" class=\"dataframe\">\n",
       "  <thead>\n",
       "    <tr style=\"text-align: right;\">\n",
       "      <th></th>\n",
       "      <th>Ticker symbol</th>\n",
       "      <th>Security</th>\n",
       "      <th>SEC filings</th>\n",
       "      <th>GICS Sector</th>\n",
       "      <th>GICS Sub Industry</th>\n",
       "      <th>Address of Headquarters</th>\n",
       "      <th>Date first added</th>\n",
       "      <th>CIK</th>\n",
       "    </tr>\n",
       "  </thead>\n",
       "  <tbody>\n",
       "    <tr>\n",
       "      <th>255</th>\n",
       "      <td>JPM</td>\n",
       "      <td>JPMorgan Chase &amp; Co.</td>\n",
       "      <td>reports</td>\n",
       "      <td>Financials</td>\n",
       "      <td>Banks</td>\n",
       "      <td>New York, New York</td>\n",
       "      <td>30-06-1975</td>\n",
       "      <td>19617</td>\n",
       "    </tr>\n",
       "  </tbody>\n",
       "</table>\n",
       "</div>"
      ],
      "text/plain": [
       "    Ticker symbol              Security SEC filings GICS Sector  \\\n",
       "255           JPM  JPMorgan Chase & Co.     reports  Financials   \n",
       "\n",
       "    GICS Sub Industry Address of Headquarters Date first added    CIK  \n",
       "255             Banks      New York, New York       30-06-1975  19617  "
      ]
     },
     "execution_count": 27,
     "metadata": {},
     "output_type": "execute_result"
    }
   ],
   "source": [
    "comp_info.loc[comp_info.Security.str.startswith('JP') , :]"
   ]
  },
  {
   "cell_type": "code",
   "execution_count": 28,
   "id": "141a0dc4",
   "metadata": {},
   "outputs": [
    {
     "name": "stdout",
     "output_type": "stream",
     "text": [
      "6      ADBE\n",
      "45     AAPL\n",
      "181      FB\n",
      "255     JPM\n",
      "306    MSFT\n",
      "339    NVDA\n",
      "344    ORCL\n",
      "Name: Ticker symbol, dtype: object\n"
     ]
    }
   ],
   "source": [
    "comp_plot = comp_info.loc[(comp_info[\"Security\"] == 'Apple Inc.') | (comp_info[\"Security\"] == 'Nvidia Corporation') | (comp_info[\"Security\"] == 'Oracle Corp.')\n",
    "              | (comp_info[\"Security\"] == 'Microsoft Corp.') | (comp_info[\"Security\"] == 'Adobe Systems Inc') \n",
    "              | (comp_info[\"Security\"] == 'Facebook') | (comp_info[\"Security\"] == 'JPMorgan Chase & Co.') , [\"Ticker symbol\"] ][\"Ticker symbol\"] \n",
    "print(comp_plot)"
   ]
  },
  {
   "cell_type": "code",
   "execution_count": 29,
   "id": "886db4e3",
   "metadata": {},
   "outputs": [
    {
     "name": "stdout",
     "output_type": "stream",
     "text": [
      "ADBE\n",
      "AAPL\n",
      "FB\n",
      "JPM\n",
      "MSFT\n",
      "NVDA\n",
      "ORCL\n"
     ]
    }
   ],
   "source": [
    "for i in comp_plot:\n",
    "    print(i)"
   ]
  },
  {
   "cell_type": "code",
   "execution_count": 30,
   "id": "3e28020f",
   "metadata": {},
   "outputs": [],
   "source": [
    "def plotter(code):\n",
    "    # Function used to create graphs for 6 companies \n",
    "    global closing_stock ,opening_stock\n",
    "    #creating plot of all 6 company for opening and closing stock  total 12 graphs\n",
    "    # Below statement create 2X2 empty chart \n",
    "    f, axs = plt.subplots(2,2,figsize=(15,8))\n",
    "    # total 12 graphs\n",
    "    # creating plot opening prize of particular company\n",
    "    plt.subplot(212)\n",
    "    #taking name of the company as code, get all records related to one company\n",
    "    company = df[df['symbol']==code]\n",
    "    #taking the values of one company and taking its open column values to 1D array\n",
    "    company = company.open.values.astype('float32')\n",
    "    #reshaping the open stock value from 1D  to 2D .\n",
    "    company = company.reshape(-1, 1)\n",
    "    # putting the value of company in opening_stock \n",
    "    opening_stock = company\n",
    "    # plotting the data with green graph between \"Time\" and \"prices vs time\"\n",
    "    \n",
    "    plt.grid(True)# enalbling the grid in graph\n",
    "    plt.xlabel('Time') # setting X axis as time\n",
    "    # setting Y axis as company name + open stock prices\n",
    "    plt.ylabel(code + \" open stock prices\") \n",
    "    plt.title('prices Vs Time') # setting title\n",
    "    plt.plot(company , 'g') # calling the graph with green graph line\n",
    "    \n",
    "    # creating plot closing prize of particular company\n",
    "    plt.subplot(211)\n",
    "    #taking name of the company as code\n",
    "    company_close = df[df['symbol']==code]\n",
    "    #taking the values of one company and taking its close column values\n",
    "    company_close = company_close.close.values.astype('float32')\n",
    "    #reshaping the open column value in 1D and calling it closing_stock\n",
    "   # -1 for unknown dimension\n",
    "    company_close = company_close.reshape(-1, 1)\n",
    "    # putting company_close value in closing_stock \n",
    "    closing_stock = company_close\n",
    "    # plotting the data graph between \"Time\" and \"prices vs time\"\n",
    "    plt.xlabel('Time') # setting x axis as time\n",
    "    plt.ylabel(code + \" close stock prices\")# setting y axis as company name + open stock prices\n",
    "    plt.title('prices Vs Time') # setting title as price vs time\n",
    "    plt.grid(True) # enabling the grid in graph\n",
    "    plt.plot(company_close , 'b') #creating the data graph in blue graph line\n",
    "    plt.show() # calling the graph"
   ]
  },
  {
   "cell_type": "code",
   "execution_count": 31,
   "id": "c452f0ef",
   "metadata": {},
   "outputs": [
    {
     "data": {
      "image/png": "[encoded data removed]",
      "text/plain": [
       "<Figure size 1080x576 with 2 Axes>"
      ]
     },
     "metadata": {
      "needs_background": "light"
     },
     "output_type": "display_data"
    }
   ],
   "source": [
    "plotter('ADBE')"
   ]
  },
  {
   "cell_type": "code",
   "execution_count": 32,
   "id": "5e0eaf6b",
   "metadata": {},
   "outputs": [
    {
     "data": {
      "image/png": "[encoded data removed]",
      "text/plain": [
       "<Figure size 1080x576 with 2 Axes>"
      ]
     },
     "metadata": {
      "needs_background": "light"
     },
     "output_type": "display_data"
    }
   ],
   "source": [
    "plotter('AAPL')"
   ]
  },
  {
   "cell_type": "code",
   "execution_count": 33,
   "id": "8bd04512",
   "metadata": {},
   "outputs": [
    {
     "data": {
      "image/png": "[encoded data removed]",
      "text/plain": [
       "<Figure size 1080x576 with 2 Axes>"
      ]
     },
     "metadata": {
      "needs_background": "light"
     },
     "output_type": "display_data"
    }
   ],
   "source": [
    "plotter('FB')"
   ]
  },
  {
   "cell_type": "code",
   "execution_count": 34,
   "id": "297df2da",
   "metadata": {},
   "outputs": [
    {
     "data": {
      "image/png": "[encoded data removed]",
      "text/plain": [
       "<Figure size 1080x576 with 2 Axes>"
      ]
     },
     "metadata": {
      "needs_background": "light"
     },
     "output_type": "display_data"
    }
   ],
   "source": [
    "plotter('JPM')"
   ]
  },
  {
   "cell_type": "code",
   "execution_count": 35,
   "id": "2cd1507f",
   "metadata": {},
   "outputs": [
    {
     "data": {
      "image/png": "[encoded data removed]",
      "text/plain": [
       "<Figure size 1080x576 with 2 Axes>"
      ]
     },
     "metadata": {
      "needs_background": "light"
     },
     "output_type": "display_data"
    }
   ],
   "source": [
    "plotter('MSFT')"
   ]
  },
  {
   "cell_type": "code",
   "execution_count": 36,
   "id": "5475719f",
   "metadata": {},
   "outputs": [
    {
     "data": {
      "image/png": "[encoded data removed]",
      "text/plain": [
       "<Figure size 1080x576 with 2 Axes>"
      ]
     },
     "metadata": {
      "needs_background": "light"
     },
     "output_type": "display_data"
    }
   ],
   "source": [
    "plotter('NVDA')"
   ]
  },
  {
   "cell_type": "code",
   "execution_count": 37,
   "id": "bca2d6bb",
   "metadata": {},
   "outputs": [
    {
     "data": {
      "image/png": "[encoded data removed]",
      "text/plain": [
       "<Figure size 1080x576 with 2 Axes>"
      ]
     },
     "metadata": {
      "needs_background": "light"
     },
     "output_type": "display_data"
    }
   ],
   "source": [
    "plotter('ORCL')"
   ]
  },
  {
   "cell_type": "code",
   "execution_count": 38,
   "id": "0ce08a9e",
   "metadata": {},
   "outputs": [
    {
     "name": "stdout",
     "output_type": "stream",
     "text": [
      "[24.85     24.82     24.459999 ... 38.68     38.689999 38.450001]\n"
     ]
    }
   ],
   "source": [
    "stocks= np.array (df[df.symbol.isin (['ORCL'])].close)\n",
    "print(stocks)"
   ]
  },
  {
   "cell_type": "code",
   "execution_count": 39,
   "id": "5d798546",
   "metadata": {},
   "outputs": [
    {
     "data": {
      "text/plain": [
       "(1762,)"
      ]
     },
     "metadata": {},
     "output_type": "display_data"
    }
   ],
   "source": [
    "display(stocks.shape)"
   ]
  },
  {
   "cell_type": "code",
   "execution_count": 40,
   "id": "408005d0",
   "metadata": {},
   "outputs": [
    {
     "name": "stdout",
     "output_type": "stream",
     "text": [
      "(1762, 1)\n",
      "[[24.85    ]\n",
      " [24.82    ]\n",
      " [24.459999]\n",
      " ...\n",
      " [38.68    ]\n",
      " [38.689999]\n",
      " [38.450001]]\n"
     ]
    }
   ],
   "source": [
    "stocks = stocks.reshape(len(stocks) , 1)\n",
    "print (stocks.shape)\n",
    "print(stocks)"
   ]
  },
  {
   "cell_type": "code",
   "execution_count": 41,
   "id": "e7e66518",
   "metadata": {},
   "outputs": [
    {
     "data": {
      "text/plain": [
       "array([[0.13685914],\n",
       "       [0.135648  ],\n",
       "       [0.12111425],\n",
       "       ...,\n",
       "       [0.69519581],\n",
       "       [0.69559949],\n",
       "       [0.68591043]])"
      ]
     },
     "metadata": {},
     "output_type": "display_data"
    }
   ],
   "source": [
    "from sklearn.preprocessing import MinMaxScaler\n",
    "scaler = MinMaxScaler(feature_range=(0, 1)) \n",
    "stocks = scaler.fit_transform(stocks) \n",
    "display (stocks)"
   ]
  },
  {
   "cell_type": "code",
   "execution_count": 42,
   "id": "b3ac8e14",
   "metadata": {},
   "outputs": [
    {
     "name": "stdout",
     "output_type": "stream",
     "text": [
      "(1762, 1)\n"
     ]
    }
   ],
   "source": [
    "print(stocks.shape)"
   ]
  },
  {
   "cell_type": "code",
   "execution_count": 43,
   "id": "00f06100",
   "metadata": {},
   "outputs": [
    {
     "name": "stdout",
     "output_type": "stream",
     "text": [
      "1409\n"
     ]
    }
   ],
   "source": [
    "train = int(len(stocks) * 0.80)\n",
    "print (train)"
   ]
  },
  {
   "cell_type": "code",
   "execution_count": 44,
   "id": "4f0d2b00",
   "metadata": {},
   "outputs": [
    {
     "name": "stdout",
     "output_type": "stream",
     "text": [
      "353\n"
     ]
    }
   ],
   "source": [
    "test = len(stocks) - train \n",
    "print (test)"
   ]
  },
  {
   "cell_type": "code",
   "execution_count": 45,
   "id": "151c988b",
   "metadata": {},
   "outputs": [
    {
     "data": {
      "text/plain": [
       "(1409, 1)"
      ]
     },
     "metadata": {},
     "output_type": "display_data"
    },
    {
     "name": "stdout",
     "output_type": "stream",
     "text": [
      "[[0.13685914]\n",
      " [0.135648  ]\n",
      " [0.12111425]\n",
      " ...\n",
      " [0.73395233]\n",
      " [0.72103352]\n",
      " [0.7307227 ]]\n"
     ]
    }
   ],
   "source": [
    "train = stocks[0:train]\n",
    "display (train.shape)\n",
    "print(train)"
   ]
  },
  {
   "cell_type": "code",
   "execution_count": 46,
   "id": "2d6c4556",
   "metadata": {},
   "outputs": [
    {
     "data": {
      "text/plain": [
       "(353, 1)"
      ]
     },
     "metadata": {},
     "output_type": "display_data"
    },
    {
     "data": {
      "text/plain": [
       "array([[0.74404519],\n",
       "       [0.71497773],\n",
       "       [0.71941862],\n",
       "       [0.72062985],\n",
       "       [0.72466695],\n",
       "       [0.73718213],\n",
       "       [0.74162302],\n",
       "       [0.72951148],\n",
       "       [0.69317728],\n",
       "       [0.64957607],\n",
       "       [0.59023021],\n",
       "       [0.56479618],\n",
       "       [0.62373841],\n",
       "       [0.62010498],\n",
       "       [0.64594265],\n",
       "       [0.63100526],\n",
       "       [0.58740405],\n",
       "       [0.61727898],\n",
       "       [0.62333477],\n",
       "       [0.5979007 ],\n",
       "       [0.6548244 ],\n",
       "       [0.63100526],\n",
       "       [0.65199844],\n",
       "       [0.66451346],\n",
       "       [0.64997987],\n",
       "       [0.66733962],\n",
       "       [0.67864353],\n",
       "       [0.61687535],\n",
       "       [0.6023416 ],\n",
       "       [0.62050878],\n",
       "       [0.59467095],\n",
       "       [0.58659679],\n",
       "       [0.58942275],\n",
       "       [0.58901895],\n",
       "       [0.56439239],\n",
       "       [0.56721835],\n",
       "       [0.59184495],\n",
       "       [0.59668964],\n",
       "       [0.62293094],\n",
       "       [0.65119097],\n",
       "       [0.65684297],\n",
       "       [0.65401697],\n",
       "       [0.66330236],\n",
       "       [0.67178031],\n",
       "       [0.66935815],\n",
       "       [0.6604764 ],\n",
       "       [0.63786832],\n",
       "       [0.64957607],\n",
       "       [0.64230922],\n",
       "       [0.62212351],\n",
       "       [0.62171988],\n",
       "       [0.61203066],\n",
       "       [0.65926529],\n",
       "       [0.67056925],\n",
       "       [0.68268063],\n",
       "       [0.68146953],\n",
       "       [0.70327014],\n",
       "       [0.70246271],\n",
       "       [0.70165524],\n",
       "       [0.73839323],\n",
       "       [0.75656041],\n",
       "       [0.76786436],\n",
       "       [0.762616  ],\n",
       "       [0.77351632],\n",
       "       [0.75252314],\n",
       "       [0.74525629],\n",
       "       [0.70972956],\n",
       "       [0.69317728],\n",
       "       [0.63948322],\n",
       "       [0.67258778],\n",
       "       [0.67299158],\n",
       "       [0.69600328],\n",
       "       [0.70892209],\n",
       "       [0.72184095],\n",
       "       [0.71376662],\n",
       "       [0.72668548],\n",
       "       [0.71861115],\n",
       "       [0.71538152],\n",
       "       [0.70690356],\n",
       "       [0.71740009],\n",
       "       [0.69600328],\n",
       "       [0.66007272],\n",
       "       [0.71457409],\n",
       "       [0.70084781],\n",
       "       [0.69721438],\n",
       "       [0.69115875],\n",
       "       [0.67541378],\n",
       "       [0.63584979],\n",
       "       [0.65361334],\n",
       "       [0.67622121],\n",
       "       [0.70448124],\n",
       "       [0.62454584],\n",
       "       [0.60113034],\n",
       "       [0.60395633],\n",
       "       [0.61081956],\n",
       "       [0.62454584],\n",
       "       [0.62777547],\n",
       "       [0.61889388],\n",
       "       [0.62898673],\n",
       "       [0.62414204],\n",
       "       [0.60839723],\n",
       "       [0.57690757],\n",
       "       [0.57246667],\n",
       "       [0.57973357],\n",
       "       [0.5482439 ],\n",
       "       [0.53249909],\n",
       "       [0.54420668],\n",
       "       [0.56156639],\n",
       "       [0.50948738],\n",
       "       [0.53815105],\n",
       "       [0.51110212],\n",
       "       [0.52846183],\n",
       "       [0.50383526],\n",
       "       [0.51110212],\n",
       "       [0.53855468],\n",
       "       [0.51998387],\n",
       "       [0.55591443],\n",
       "       [0.54299558],\n",
       "       [0.55995165],\n",
       "       [0.5995156 ],\n",
       "       [0.59991927],\n",
       "       [0.56075892],\n",
       "       [0.57448524],\n",
       "       [0.6051676 ],\n",
       "       [0.57488904],\n",
       "       [0.57125561],\n",
       "       [0.5498588 ],\n",
       "       [0.55470333],\n",
       "       [0.54016958],\n",
       "       [0.56842961],\n",
       "       [0.57488904],\n",
       "       [0.61243445],\n",
       "       [0.61243445],\n",
       "       [0.61849008],\n",
       "       [0.63181273],\n",
       "       [0.60920466],\n",
       "       [0.61243445],\n",
       "       [0.63907959],\n",
       "       [0.62575694],\n",
       "       [0.61849008],\n",
       "       [0.66733962],\n",
       "       [0.65805403],\n",
       "       [0.66330236],\n",
       "       [0.66330236],\n",
       "       [0.682277  ],\n",
       "       [0.67379904],\n",
       "       [0.68712153],\n",
       "       [0.66976178],\n",
       "       [0.70609614],\n",
       "       [0.69600328],\n",
       "       [0.69761818],\n",
       "       [0.75736783],\n",
       "       [0.77311269],\n",
       "       [0.80823578],\n",
       "       [0.8134841 ],\n",
       "       [0.80419868],\n",
       "       [0.77876464],\n",
       "       [0.7876464 ],\n",
       "       [0.77351632],\n",
       "       [0.77674611],\n",
       "       [0.7876464 ],\n",
       "       [0.78522407],\n",
       "       [0.79531692],\n",
       "       [0.7916835 ],\n",
       "       [0.76988289],\n",
       "       [0.77876464],\n",
       "       [0.74727498],\n",
       "       [0.76301983],\n",
       "       [0.76423089],\n",
       "       [0.765442  ],\n",
       "       [0.80137268],\n",
       "       [0.79854672],\n",
       "       [0.78966493],\n",
       "       [0.79854672],\n",
       "       [0.79127982],\n",
       "       [0.79289456],\n",
       "       [0.78845386],\n",
       "       [0.77674611],\n",
       "       [0.77997575],\n",
       "       [0.77472758],\n",
       "       [0.7828017 ],\n",
       "       [0.76180873],\n",
       "       [0.74283412],\n",
       "       [0.76059747],\n",
       "       [0.73556723],\n",
       "       [0.71982242],\n",
       "       [0.71740009],\n",
       "       [0.72466695],\n",
       "       [0.72264842],\n",
       "       [0.74929351],\n",
       "       [0.73435617],\n",
       "       [0.74121923],\n",
       "       [0.73274127],\n",
       "       [0.74727498],\n",
       "       [0.73233744],\n",
       "       [0.72708927],\n",
       "       [0.70165524],\n",
       "       [0.72466695],\n",
       "       [0.71538152],\n",
       "       [0.74444902],\n",
       "       [0.75373441],\n",
       "       [0.74646755],\n",
       "       [0.75131208],\n",
       "       [0.75656041],\n",
       "       [0.75898257],\n",
       "       [0.69438839],\n",
       "       [0.71215173],\n",
       "       [0.72587805],\n",
       "       [0.71336299],\n",
       "       [0.71941862],\n",
       "       [0.7101332 ],\n",
       "       [0.69761818],\n",
       "       [0.69277349],\n",
       "       [0.70125161],\n",
       "       [0.68550663],\n",
       "       [0.69358092],\n",
       "       [0.73556723],\n",
       "       [0.7375858 ],\n",
       "       [0.74808245],\n",
       "       [0.74888972],\n",
       "       [0.78199444],\n",
       "       [0.71740009],\n",
       "       [0.68712153],\n",
       "       [0.71336299],\n",
       "       [0.77069032],\n",
       "       [0.7860315 ],\n",
       "       [0.78320554],\n",
       "       [0.76463473],\n",
       "       [0.76988289],\n",
       "       [0.76988289],\n",
       "       [0.78360917],\n",
       "       [0.77997575],\n",
       "       [0.80581341],\n",
       "       [0.80742831],\n",
       "       [0.81590627],\n",
       "       [0.81994349],\n",
       "       [0.81469516],\n",
       "       [0.79208729],\n",
       "       [0.79895035],\n",
       "       [0.7916835 ],\n",
       "       [0.79208729],\n",
       "       [0.79531692],\n",
       "       [0.78643517],\n",
       "       [0.7860315 ],\n",
       "       [0.79652803],\n",
       "       [0.79047239],\n",
       "       [0.79491329],\n",
       "       [0.77714975],\n",
       "       [0.77714975],\n",
       "       [0.78482044],\n",
       "       [0.79410582],\n",
       "       [0.79531692],\n",
       "       [0.79289456],\n",
       "       [0.79249092],\n",
       "       [0.80016145],\n",
       "       [0.79249092],\n",
       "       [0.80460231],\n",
       "       [0.80177635],\n",
       "       [0.79733545],\n",
       "       [0.79450946],\n",
       "       [0.80177635],\n",
       "       [0.79773925],\n",
       "       [0.80904321],\n",
       "       [0.7916835 ],\n",
       "       [0.79289456],\n",
       "       [0.79935398],\n",
       "       [0.80137268],\n",
       "       [0.80137268],\n",
       "       [0.79773925],\n",
       "       [0.79531692],\n",
       "       [0.79895035],\n",
       "       [0.79895035],\n",
       "       [0.79895035],\n",
       "       [0.77755354],\n",
       "       [0.74969718],\n",
       "       [0.77593864],\n",
       "       [0.75575294],\n",
       "       [0.75857894],\n",
       "       [0.78320554],\n",
       "       [0.70488487],\n",
       "       [0.71740009],\n",
       "       [0.71094067],\n",
       "       [0.72870401],\n",
       "       [0.72870401],\n",
       "       [0.71740009],\n",
       "       [0.70932577],\n",
       "       [0.72022605],\n",
       "       [0.72587805],\n",
       "       [0.7129592 ],\n",
       "       [0.71941862],\n",
       "       [0.70771103],\n",
       "       [0.70286634],\n",
       "       [0.71417046],\n",
       "       [0.70286634],\n",
       "       [0.69640692],\n",
       "       [0.69277349],\n",
       "       [0.66814688],\n",
       "       [0.66976178],\n",
       "       [0.66895435],\n",
       "       [0.68429553],\n",
       "       [0.679451  ],\n",
       "       [0.68469916],\n",
       "       [0.68187317],\n",
       "       [0.67137668],\n",
       "       [0.66491725],\n",
       "       [0.67864353],\n",
       "       [0.682277  ],\n",
       "       [0.68025843],\n",
       "       [0.676625  ],\n",
       "       [0.67460631],\n",
       "       [0.68469916],\n",
       "       [0.68631406],\n",
       "       [0.66895435],\n",
       "       [0.68025843],\n",
       "       [0.67904721],\n",
       "       [0.71174809],\n",
       "       [0.71336299],\n",
       "       [0.7303189 ],\n",
       "       [0.73153017],\n",
       "       [0.72628184],\n",
       "       [0.72022605],\n",
       "       [0.71497773],\n",
       "       [0.7363747 ],\n",
       "       [0.75857894],\n",
       "       [0.74283412],\n",
       "       [0.74404519],\n",
       "       [0.75211951],\n",
       "       [0.75252314],\n",
       "       [0.75938636],\n",
       "       [0.76059747],\n",
       "       [0.77069032],\n",
       "       [0.75615661],\n",
       "       [0.69600328],\n",
       "       [0.68792896],\n",
       "       [0.70690356],\n",
       "       [0.72708927],\n",
       "       [0.76140493],\n",
       "       [0.762616  ],\n",
       "       [0.76947922],\n",
       "       [0.76907542],\n",
       "       [0.77916828],\n",
       "       [0.78401297],\n",
       "       [0.78320554],\n",
       "       [0.71215173],\n",
       "       [0.70407761],\n",
       "       [0.70811467],\n",
       "       [0.70125161],\n",
       "       [0.70649977],\n",
       "       [0.69923291],\n",
       "       [0.70084781],\n",
       "       [0.69519581],\n",
       "       [0.69559949],\n",
       "       [0.68591043]])"
      ]
     },
     "metadata": {},
     "output_type": "display_data"
    }
   ],
   "source": [
    "test = stocks[len(train) : ]\n",
    "display(test.shape)\n",
    "display (test)"
   ]
  },
  {
   "cell_type": "code",
   "execution_count": 47,
   "id": "f49211d4",
   "metadata": {},
   "outputs": [],
   "source": [
    "def process_data(data , n_features):\n",
    "    dataX, dataY = [], [] # creating data for dataset and dividing inta X,Y\n",
    "    for i in range(len(data)-n_features):\n",
    "        # taking i range from total size- 3 \n",
    "        a = data[i:(i+n_features), 0]\n",
    "        # Here a is value of data from i to i+ n_features, ie two values and put it in dataX \n",
    "        dataX.append(a) #putting a in dataX\n",
    "        #here dataY takes the value of data of i + n_features\n",
    "        dataY.append(data[i + n_features, 0])\n",
    "        # putting i+ n_features in  dataY\n",
    "    return np.array(dataX), np.array(dataY)"
   ]
  },
  {
   "cell_type": "code",
   "execution_count": 48,
   "id": "f6897add",
   "metadata": {},
   "outputs": [
    {
     "name": "stdout",
     "output_type": "stream",
     "text": [
      "(1407, 2) (1407,)\n"
     ]
    }
   ],
   "source": [
    "n_features = 2\n",
    "trainX, trainY = process_data(train, n_features)\n",
    "print(trainX.shape , trainY.shape)"
   ]
  },
  {
   "cell_type": "code",
   "execution_count": 49,
   "id": "3246afed",
   "metadata": {},
   "outputs": [
    {
     "name": "stdout",
     "output_type": "stream",
     "text": [
      "(351, 2) (351,)\n"
     ]
    }
   ],
   "source": [
    "testX, testY = process_data(test, n_features)\n",
    "print (testX.shape , testY.shape)"
   ]
  },
  {
   "cell_type": "code",
   "execution_count": 50,
   "id": "f3bbc642",
   "metadata": {},
   "outputs": [
    {
     "name": "stdout",
     "output_type": "stream",
     "text": [
      "(1760, 2) (1760,)\n"
     ]
    }
   ],
   "source": [
    "stocksX, stocksY = process_data(stocks, n_features)\n",
    "print (stocksX.shape , stocksY.shape)"
   ]
  },
  {
   "cell_type": "code",
   "execution_count": 51,
   "id": "8bb2461f",
   "metadata": {},
   "outputs": [
    {
     "data": {
      "text/plain": [
       "array([[0.13685914, 0.135648  ],\n",
       "       [0.135648  , 0.12111425],\n",
       "       [0.12111425, 0.11788453],\n",
       "       [0.11788453, 0.129996  ],\n",
       "       [0.129996  , 0.13039975],\n",
       "       [0.13039975, 0.12515139],\n",
       "       [0.12515139, 0.13484053],\n",
       "       [0.13484053, 0.15664113],\n",
       "       [0.15664113, 0.15260399],\n",
       "       [0.15260399, 0.15623742]])"
      ]
     },
     "metadata": {},
     "output_type": "display_data"
    }
   ],
   "source": [
    "display (trainX[:10])"
   ]
  },
  {
   "cell_type": "code",
   "execution_count": 52,
   "id": "3676a947",
   "metadata": {},
   "outputs": [
    {
     "data": {
      "text/plain": [
       "array([0.12111425, 0.11788453, 0.129996  , 0.13039975, 0.12515139,\n",
       "       0.13484053, 0.15664113, 0.15260399, 0.15623742, 0.1453371 ])"
      ]
     },
     "metadata": {},
     "output_type": "display_data"
    }
   ],
   "source": [
    "display (trainY[:10])"
   ]
  },
  {
   "cell_type": "code",
   "execution_count": 53,
   "id": "56c44574",
   "metadata": {},
   "outputs": [
    {
     "data": {
      "text/plain": [
       "(1407, 1, 2)"
      ]
     },
     "metadata": {},
     "output_type": "display_data"
    }
   ],
   "source": [
    "trainX = trainX.reshape(trainX.shape[0] , 1 ,trainX.shape[1])\n",
    "display (trainX.shape)"
   ]
  },
  {
   "cell_type": "code",
   "execution_count": 54,
   "id": "c29ba729",
   "metadata": {},
   "outputs": [
    {
     "data": {
      "text/plain": [
       "(351, 1, 2)"
      ]
     },
     "metadata": {},
     "output_type": "display_data"
    }
   ],
   "source": [
    "testX = testX.reshape(testX.shape[0] , 1 ,testX.shape[1])\n",
    "display (testX.shape)"
   ]
  },
  {
   "cell_type": "code",
   "execution_count": 55,
   "id": "a1bc5f7e",
   "metadata": {},
   "outputs": [
    {
     "data": {
      "text/plain": [
       "(1760, 1, 2)"
      ]
     },
     "metadata": {},
     "output_type": "display_data"
    }
   ],
   "source": [
    "stocksX= stocksX.reshape(stocksX.shape[0] , 1 ,stocksX.shape[1])\n",
    "display (stocksX.shape)"
   ]
  },
  {
   "cell_type": "code",
   "execution_count": 56,
   "id": "7917a5eb",
   "metadata": {},
   "outputs": [
    {
     "name": "stderr",
     "output_type": "stream",
     "text": [
      "Using TensorFlow backend.\n"
     ]
    }
   ],
   "source": [
    "# helps us do mathematical operations\n",
    "import math \n",
    "# for setting layers one by one neural layer in model \n",
    "from keras.models import Sequential \n",
    "# types of layers\n",
    "from keras.layers import Dense , BatchNormalization , Dropout , Activation \n",
    "# types of RNN\n",
    "from keras.layers import LSTM , GRU \n",
    "#It puts the data in between given range to set data before putting layer\n",
    "from sklearn.preprocessing import MinMaxScaler \n",
    "# In this method the errors in column is squared and then mean is found \n",
    "from sklearn.metrics import mean_squared_error \n",
    "# Optimizers used\n",
    "from keras.optimizers import Adam , SGD , RMSprop"
   ]
  },
  {
   "cell_type": "code",
   "execution_count": 57,
   "id": "adf4b5c8",
   "metadata": {},
   "outputs": [],
   "source": [
    "filepath=\"C:\\\\Users\\\\kazia\\\\Downloads\\\\stock_weights1.hdf5\"\n",
    "from keras.callbacks import ReduceLROnPlateau , ModelCheckpoint\n",
    "# ReduceLROnPlateau- This reduce the learning rate when the matrix stop improving or  too close to reduce overfitting\n",
    "lr_reduce = ReduceLROnPlateau(monitor='val_loss', factor=0.1, epsilon=0.0001, patience=1, verbose=1)\n",
    "#This check point will stop processing, if the model is not improving.\n",
    "checkpoint = ModelCheckpoint(filepath, monitor='val_loss', verbose=1, save_best_only=True, mode='max')"
   ]
  },
  {
   "cell_type": "code",
   "execution_count": 58,
   "id": "0198c97d",
   "metadata": {},
   "outputs": [],
   "source": [
    "model = Sequential()"
   ]
  },
  {
   "cell_type": "code",
   "execution_count": 59,
   "id": "8b6d508a",
   "metadata": {},
   "outputs": [],
   "source": [
    "model.add(GRU(256 , input_shape = (1 , n_features) , return_sequences=True))"
   ]
  },
  {
   "cell_type": "code",
   "execution_count": 60,
   "id": "f2dbdf84",
   "metadata": {},
   "outputs": [],
   "source": [
    "model.add(Dropout(0.4))"
   ]
  },
  {
   "cell_type": "code",
   "execution_count": 61,
   "id": "9c1a3ac8",
   "metadata": {},
   "outputs": [],
   "source": [
    "model.add(LSTM(256))"
   ]
  },
  {
   "cell_type": "code",
   "execution_count": 62,
   "id": "8eefafd1",
   "metadata": {},
   "outputs": [],
   "source": [
    "model.add(Dropout(0.4))"
   ]
  },
  {
   "cell_type": "code",
   "execution_count": 63,
   "id": "162a7878",
   "metadata": {},
   "outputs": [],
   "source": [
    "model.add(Dense(64 ,  activation = 'relu'))"
   ]
  },
  {
   "cell_type": "code",
   "execution_count": 64,
   "id": "bcf338e6",
   "metadata": {},
   "outputs": [],
   "source": [
    "model.add(Dense(1))"
   ]
  },
  {
   "cell_type": "code",
   "execution_count": 65,
   "id": "6fa4413f",
   "metadata": {},
   "outputs": [
    {
     "name": "stdout",
     "output_type": "stream",
     "text": [
      "Model: \"sequential_1\"\n",
      "_________________________________________________________________\n",
      "Layer (type)                 Output Shape              Param #   \n",
      "=================================================================\n",
      "gru_1 (GRU)                  (None, 1, 256)            198912    \n",
      "_________________________________________________________________\n",
      "dropout_1 (Dropout)          (None, 1, 256)            0         \n",
      "_________________________________________________________________\n",
      "lstm_1 (LSTM)                (None, 256)               525312    \n",
      "_________________________________________________________________\n",
      "dropout_2 (Dropout)          (None, 256)               0         \n",
      "_________________________________________________________________\n",
      "dense_1 (Dense)              (None, 64)                16448     \n",
      "_________________________________________________________________\n",
      "dense_2 (Dense)              (None, 1)                 65        \n",
      "=================================================================\n",
      "Total params: 740,737\n",
      "Trainable params: 740,737\n",
      "Non-trainable params: 0\n",
      "_________________________________________________________________\n",
      "None\n"
     ]
    }
   ],
   "source": [
    "print(model.summary())"
   ]
  },
  {
   "cell_type": "code",
   "execution_count": 66,
   "id": "743bc12a",
   "metadata": {},
   "outputs": [],
   "source": [
    "model.compile(loss='mean_squared_error', optimizer=Adam(lr = 0.0005) , metrics = ['mean_squared_error'])"
   ]
  },
  {
   "cell_type": "code",
   "execution_count": 67,
   "id": "dd6583da",
   "metadata": {},
   "outputs": [
    {
     "name": "stdout",
     "output_type": "stream",
     "text": [
      "WARNING:tensorflow:From C:\\Users\\kazia\\.conda\\envs\\tf\\lib\\site-packages\\keras\\backend\\tensorflow_backend.py:422: The name tf.global_variables is deprecated. Please use tf.compat.v1.global_variables instead.\n",
      "\n",
      "Train on 1407 samples, validate on 351 samples\n",
      "Epoch 1/100\n",
      "1407/1407 [==============================] - 4s 3ms/step - loss: 0.2144 - mean_squared_error: 0.2144 - val_loss: 0.2253 - val_mean_squared_error: 0.2253\n",
      "\n",
      "Epoch 00001: val_loss improved from -inf to 0.22525, saving model to C:\\Users\\kazia\\Downloads\\stock_weights1.hdf5\n",
      "Epoch 2/100\n",
      "1407/1407 [==============================] - 0s 305us/step - loss: 0.0541 - mean_squared_error: 0.0541 - val_loss: 8.3378e-04 - val_mean_squared_error: 8.3378e-04\n",
      "\n",
      "Epoch 00002: val_loss did not improve from 0.22525\n",
      "Epoch 3/100\n",
      "1407/1407 [==============================] - 0s 219us/step - loss: 0.0201 - mean_squared_error: 0.0201 - val_loss: 0.0011 - val_mean_squared_error: 0.0011\n",
      "\n",
      "Epoch 00003: val_loss did not improve from 0.22525\n",
      "\n",
      "Epoch 00003: ReduceLROnPlateau reducing learning rate to 5.0000002374872565e-05.\n",
      "Epoch 4/100\n",
      "1407/1407 [==============================] - 0s 206us/step - loss: 0.0100 - mean_squared_error: 0.0100 - val_loss: 7.3964e-04 - val_mean_squared_error: 7.3964e-04\n",
      "\n",
      "Epoch 00004: val_loss did not improve from 0.22525\n",
      "\n",
      "Epoch 00004: ReduceLROnPlateau reducing learning rate to 5.000000237487257e-06.\n",
      "Epoch 5/100\n",
      "1407/1407 [==============================] - 0s 208us/step - loss: 0.0088 - mean_squared_error: 0.0088 - val_loss: 7.7158e-04 - val_mean_squared_error: 7.7158e-04\n",
      "\n",
      "Epoch 00005: val_loss did not improve from 0.22525\n",
      "\n",
      "Epoch 00005: ReduceLROnPlateau reducing learning rate to 5.000000328436726e-07.\n",
      "Epoch 6/100\n",
      "1407/1407 [==============================] - 0s 217us/step - loss: 0.0088 - mean_squared_error: 0.0088 - val_loss: 7.7509e-04 - val_mean_squared_error: 7.7509e-04\n",
      "\n",
      "Epoch 00006: val_loss did not improve from 0.22525\n",
      "\n",
      "Epoch 00006: ReduceLROnPlateau reducing learning rate to 5.000000555810402e-08.\n",
      "Epoch 7/100\n",
      "1407/1407 [==============================] - 0s 205us/step - loss: 0.0087 - mean_squared_error: 0.0087 - val_loss: 7.7544e-04 - val_mean_squared_error: 7.7544e-04\n",
      "\n",
      "Epoch 00007: val_loss did not improve from 0.22525\n",
      "\n",
      "Epoch 00007: ReduceLROnPlateau reducing learning rate to 5.000000413701855e-09.\n",
      "Epoch 8/100\n",
      "1407/1407 [==============================] - 0s 207us/step - loss: 0.0088 - mean_squared_error: 0.0088 - val_loss: 7.7546e-04 - val_mean_squared_error: 7.7546e-04\n",
      "\n",
      "Epoch 00008: val_loss did not improve from 0.22525\n",
      "\n",
      "Epoch 00008: ReduceLROnPlateau reducing learning rate to 5.000000413701855e-10.\n",
      "Epoch 9/100\n",
      "1407/1407 [==============================] - 0s 208us/step - loss: 0.0087 - mean_squared_error: 0.0087 - val_loss: 7.7547e-04 - val_mean_squared_error: 7.7547e-04\n",
      "\n",
      "Epoch 00009: val_loss did not improve from 0.22525\n",
      "\n",
      "Epoch 00009: ReduceLROnPlateau reducing learning rate to 5.000000413701855e-11.\n",
      "Epoch 10/100\n",
      "1407/1407 [==============================] - 0s 206us/step - loss: 0.0086 - mean_squared_error: 0.0086 - val_loss: 7.7547e-04 - val_mean_squared_error: 7.7547e-04\n",
      "\n",
      "Epoch 00010: val_loss did not improve from 0.22525\n",
      "\n",
      "Epoch 00010: ReduceLROnPlateau reducing learning rate to 5.000000413701855e-12.\n",
      "Epoch 11/100\n",
      "1407/1407 [==============================] - 0s 216us/step - loss: 0.0087 - mean_squared_error: 0.0087 - val_loss: 7.7547e-04 - val_mean_squared_error: 7.7547e-04\n",
      "\n",
      "Epoch 00011: val_loss did not improve from 0.22525\n",
      "\n",
      "Epoch 00011: ReduceLROnPlateau reducing learning rate to 5.000000413701855e-13.\n",
      "Epoch 12/100\n",
      "1407/1407 [==============================] - 0s 207us/step - loss: 0.0089 - mean_squared_error: 0.0089 - val_loss: 7.7547e-04 - val_mean_squared_error: 7.7547e-04\n",
      "\n",
      "Epoch 00012: val_loss did not improve from 0.22525\n",
      "\n",
      "Epoch 00012: ReduceLROnPlateau reducing learning rate to 5.0000005221220725e-14.\n",
      "Epoch 13/100\n",
      "1407/1407 [==============================] - 0s 208us/step - loss: 0.0087 - mean_squared_error: 0.0087 - val_loss: 7.7547e-04 - val_mean_squared_error: 7.7547e-04\n",
      "\n",
      "Epoch 00013: val_loss did not improve from 0.22525\n",
      "\n",
      "Epoch 00013: ReduceLROnPlateau reducing learning rate to 5.000000589884709e-15.\n",
      "Epoch 14/100\n",
      "1407/1407 [==============================] - 0s 243us/step - loss: 0.0089 - mean_squared_error: 0.0089 - val_loss: 7.7547e-04 - val_mean_squared_error: 7.7547e-04\n",
      "\n",
      "Epoch 00014: val_loss did not improve from 0.22525\n",
      "\n",
      "Epoch 00014: ReduceLROnPlateau reducing learning rate to 5.000000759291298e-16.\n",
      "Epoch 15/100\n",
      "1407/1407 [==============================] - 0s 207us/step - loss: 0.0090 - mean_squared_error: 0.0090 - val_loss: 7.7547e-04 - val_mean_squared_error: 7.7547e-04\n",
      "\n",
      "Epoch 00015: val_loss did not improve from 0.22525\n",
      "\n",
      "Epoch 00015: ReduceLROnPlateau reducing learning rate to 5.000000547533061e-17.\n",
      "Epoch 16/100\n",
      "1407/1407 [==============================] - 0s 216us/step - loss: 0.0088 - mean_squared_error: 0.0088 - val_loss: 7.7547e-04 - val_mean_squared_error: 7.7547e-04\n",
      "\n",
      "Epoch 00016: val_loss did not improve from 0.22525\n",
      "\n",
      "Epoch 00016: ReduceLROnPlateau reducing learning rate to 5.000000415184163e-18.\n",
      "Epoch 17/100\n",
      "1407/1407 [==============================] - 0s 216us/step - loss: 0.0087 - mean_squared_error: 0.0087 - val_loss: 7.7547e-04 - val_mean_squared_error: 7.7547e-04\n",
      "\n",
      "Epoch 00017: val_loss did not improve from 0.22525\n",
      "\n",
      "Epoch 00017: ReduceLROnPlateau reducing learning rate to 5.000000332466102e-19.\n",
      "Epoch 18/100\n",
      "1407/1407 [==============================] - 0s 202us/step - loss: 0.0089 - mean_squared_error: 0.0089 - val_loss: 7.7547e-04 - val_mean_squared_error: 7.7547e-04\n",
      "\n",
      "Epoch 00018: val_loss did not improve from 0.22525\n",
      "\n",
      "Epoch 00018: ReduceLROnPlateau reducing learning rate to 5.000000229068525e-20.\n",
      "Epoch 19/100\n",
      "1407/1407 [==============================] - 0s 206us/step - loss: 0.0088 - mean_squared_error: 0.0088 - val_loss: 7.7547e-04 - val_mean_squared_error: 7.7547e-04\n",
      "\n",
      "Epoch 00019: val_loss did not improve from 0.22525\n",
      "\n",
      "Epoch 00019: ReduceLROnPlateau reducing learning rate to 5.00000016444504e-21.\n",
      "Epoch 20/100\n",
      "1407/1407 [==============================] - 0s 209us/step - loss: 0.0089 - mean_squared_error: 0.0089 - val_loss: 7.7547e-04 - val_mean_squared_error: 7.7547e-04\n",
      "\n",
      "Epoch 00020: val_loss did not improve from 0.22525\n",
      "\n",
      "Epoch 00020: ReduceLROnPlateau reducing learning rate to 5.000000245224397e-22.\n",
      "Epoch 21/100\n",
      "1407/1407 [==============================] - 0s 207us/step - loss: 0.0090 - mean_squared_error: 0.0090 - val_loss: 7.7547e-04 - val_mean_squared_error: 7.7547e-04\n",
      "\n",
      "Epoch 00021: val_loss did not improve from 0.22525\n",
      "\n",
      "Epoch 00021: ReduceLROnPlateau reducing learning rate to 5.0000003461985925e-23.\n",
      "Epoch 22/100\n",
      "1407/1407 [==============================] - 0s 252us/step - loss: 0.0089 - mean_squared_error: 0.0089 - val_loss: 7.7547e-04 - val_mean_squared_error: 7.7547e-04\n",
      "\n",
      "Epoch 00022: val_loss did not improve from 0.22525\n",
      "\n",
      "Epoch 00022: ReduceLROnPlateau reducing learning rate to 5.000000472416337e-24.\n",
      "Epoch 23/100\n",
      "1407/1407 [==============================] - 0s 177us/step - loss: 0.0090 - mean_squared_error: 0.0090 - val_loss: 7.7547e-04 - val_mean_squared_error: 7.7547e-04\n",
      "\n",
      "Epoch 00023: val_loss did not improve from 0.22525\n",
      "\n",
      "Epoch 00023: ReduceLROnPlateau reducing learning rate to 5.000000393530247e-25.\n",
      "Epoch 24/100\n",
      "1407/1407 [==============================] - 0s 183us/step - loss: 0.0092 - mean_squared_error: 0.0092 - val_loss: 7.7547e-04 - val_mean_squared_error: 7.7547e-04\n",
      "\n",
      "Epoch 00024: val_loss did not improve from 0.22525\n",
      "\n",
      "Epoch 00024: ReduceLROnPlateau reducing learning rate to 5.000000590745473e-26.\n",
      "Epoch 25/100\n",
      "1407/1407 [==============================] - 0s 182us/step - loss: 0.0088 - mean_squared_error: 0.0088 - val_loss: 7.7547e-04 - val_mean_squared_error: 7.7547e-04\n",
      "\n",
      "Epoch 00025: val_loss did not improve from 0.22525\n",
      "\n",
      "Epoch 00025: ReduceLROnPlateau reducing learning rate to 5.000000714004989e-27.\n",
      "Epoch 26/100\n",
      "1407/1407 [==============================] - 0s 189us/step - loss: 0.0090 - mean_squared_error: 0.0090 - val_loss: 7.7547e-04 - val_mean_squared_error: 7.7547e-04\n",
      "\n",
      "Epoch 00026: val_loss did not improve from 0.22525\n",
      "\n",
      "Epoch 00026: ReduceLROnPlateau reducing learning rate to 5.00000071400499e-28.\n",
      "Epoch 27/100\n"
     ]
    },
    {
     "name": "stdout",
     "output_type": "stream",
     "text": [
      "1407/1407 [==============================] - 0s 189us/step - loss: 0.0087 - mean_squared_error: 0.0087 - val_loss: 7.7547e-04 - val_mean_squared_error: 7.7547e-04\n",
      "\n",
      "Epoch 00027: val_loss did not improve from 0.22525\n",
      "\n",
      "Epoch 00027: ReduceLROnPlateau reducing learning rate to 5.000000617708492e-29.\n",
      "Epoch 28/100\n",
      "1407/1407 [==============================] - 0s 180us/step - loss: 0.0089 - mean_squared_error: 0.0089 - val_loss: 7.7547e-04 - val_mean_squared_error: 7.7547e-04\n",
      "\n",
      "Epoch 00028: val_loss did not improve from 0.22525\n",
      "\n",
      "Epoch 00028: ReduceLROnPlateau reducing learning rate to 5.0000006177084924e-30.\n",
      "Epoch 29/100\n",
      "1407/1407 [==============================] - 0s 200us/step - loss: 0.0085 - mean_squared_error: 0.0085 - val_loss: 7.7547e-04 - val_mean_squared_error: 7.7547e-04\n",
      "\n",
      "Epoch 00029: val_loss did not improve from 0.22525\n",
      "\n",
      "Epoch 00029: ReduceLROnPlateau reducing learning rate to 5.0000007681717695e-31.\n",
      "Epoch 30/100\n",
      "1407/1407 [==============================] - 0s 214us/step - loss: 0.0087 - mean_squared_error: 0.0087 - val_loss: 7.7547e-04 - val_mean_squared_error: 7.7547e-04\n",
      "\n",
      "Epoch 00030: val_loss did not improve from 0.22525\n",
      "\n",
      "Epoch 00030: ReduceLROnPlateau reducing learning rate to 5.000000956250865e-32.\n",
      "Epoch 31/100\n",
      "1407/1407 [==============================] - 0s 219us/step - loss: 0.0089 - mean_squared_error: 0.0089 - val_loss: 7.7547e-04 - val_mean_squared_error: 7.7547e-04\n",
      "\n",
      "Epoch 00031: val_loss did not improve from 0.22525\n",
      "\n",
      "Epoch 00031: ReduceLROnPlateau reducing learning rate to 5.0000010738003005e-33.\n",
      "Epoch 32/100\n",
      "1407/1407 [==============================] - 0s 224us/step - loss: 0.0090 - mean_squared_error: 0.0090 - val_loss: 7.7547e-04 - val_mean_squared_error: 7.7547e-04\n",
      "\n",
      "Epoch 00032: val_loss did not improve from 0.22525\n",
      "\n",
      "Epoch 00032: ReduceLROnPlateau reducing learning rate to 5.000001220737094e-34.\n",
      "Epoch 33/100\n",
      "1407/1407 [==============================] - 0s 227us/step - loss: 0.0089 - mean_squared_error: 0.0089 - val_loss: 7.7547e-04 - val_mean_squared_error: 7.7547e-04\n",
      "\n",
      "Epoch 00033: val_loss did not improve from 0.22525\n",
      "\n",
      "Epoch 00033: ReduceLROnPlateau reducing learning rate to 5.000001037066102e-35.\n",
      "Epoch 34/100\n",
      "1407/1407 [==============================] - 0s 217us/step - loss: 0.0085 - mean_squared_error: 0.0085 - val_loss: 7.7547e-04 - val_mean_squared_error: 7.7547e-04\n",
      "\n",
      "Epoch 00034: val_loss did not improve from 0.22525\n",
      "\n",
      "Epoch 00034: ReduceLROnPlateau reducing learning rate to 5.000000807477361e-36.\n",
      "Epoch 35/100\n",
      "1407/1407 [==============================] - 0s 222us/step - loss: 0.0083 - mean_squared_error: 0.0083 - val_loss: 7.7547e-04 - val_mean_squared_error: 7.7547e-04\n",
      "\n",
      "Epoch 00035: val_loss did not improve from 0.22525\n",
      "\n",
      "Epoch 00035: ReduceLROnPlateau reducing learning rate to 5.000000807477361e-37.\n",
      "Epoch 36/100\n",
      "1407/1407 [==============================] - 0s 223us/step - loss: 0.0086 - mean_squared_error: 0.0086 - val_loss: 7.7547e-04 - val_mean_squared_error: 7.7547e-04\n",
      "\n",
      "Epoch 00036: val_loss did not improve from 0.22525\n",
      "\n",
      "Epoch 00036: ReduceLROnPlateau reducing learning rate to 5.000000628111158e-38.\n",
      "Epoch 37/100\n",
      "1407/1407 [==============================] - 0s 225us/step - loss: 0.0088 - mean_squared_error: 0.0088 - val_loss: 7.7547e-04 - val_mean_squared_error: 7.7547e-04\n",
      "\n",
      "Epoch 00037: val_loss did not improve from 0.22525\n",
      "\n",
      "Epoch 00037: ReduceLROnPlateau reducing learning rate to 5.000000516007281e-39.\n",
      "Epoch 38/100\n",
      "1407/1407 [==============================] - 0s 286us/step - loss: 0.0091 - mean_squared_error: 0.0091 - val_loss: 7.7547e-04 - val_mean_squared_error: 7.7547e-04\n",
      "\n",
      "Epoch 00038: val_loss did not improve from 0.22525\n",
      "\n",
      "Epoch 00038: ReduceLROnPlateau reducing learning rate to 5.000001076526666e-40.\n",
      "Epoch 39/100\n",
      "1407/1407 [==============================] - 0s 243us/step - loss: 0.0088 - mean_squared_error: 0.0088 - val_loss: 7.7547e-04 - val_mean_squared_error: 7.7547e-04\n",
      "\n",
      "Epoch 00039: val_loss did not improve from 0.22525\n",
      "\n",
      "Epoch 00039: ReduceLROnPlateau reducing learning rate to 5.000001076526667e-41.\n",
      "Epoch 40/100\n",
      "1407/1407 [==============================] - 0s 185us/step - loss: 0.0090 - mean_squared_error: 0.0090 - val_loss: 7.7547e-04 - val_mean_squared_error: 7.7547e-04\n",
      "\n",
      "Epoch 00040: val_loss did not improve from 0.22525\n",
      "\n",
      "Epoch 00040: ReduceLROnPlateau reducing learning rate to 4.99997305055738e-42.\n",
      "Epoch 41/100\n",
      "1407/1407 [==============================] - 0s 188us/step - loss: 0.0087 - mean_squared_error: 0.0087 - val_loss: 7.7547e-04 - val_mean_squared_error: 7.7547e-04\n",
      "\n",
      "Epoch 00041: val_loss did not improve from 0.22525\n",
      "\n",
      "Epoch 00041: ReduceLROnPlateau reducing learning rate to 4.9998329207109475e-43.\n",
      "Epoch 42/100\n",
      "1407/1407 [==============================] - 0s 198us/step - loss: 0.0089 - mean_squared_error: 0.0089 - val_loss: 7.7547e-04 - val_mean_squared_error: 7.7547e-04\n",
      "\n",
      "Epoch 00042: val_loss did not improve from 0.22525\n",
      "\n",
      "Epoch 00042: ReduceLROnPlateau reducing learning rate to 5.002635517639597e-44.\n",
      "Epoch 43/100\n",
      "1407/1407 [==============================] - 0s 188us/step - loss: 0.0090 - mean_squared_error: 0.0090 - val_loss: 7.7547e-04 - val_mean_squared_error: 7.7547e-04\n",
      "\n",
      "Epoch 00043: val_loss did not improve from 0.22525\n",
      "\n",
      "Epoch 00043: ReduceLROnPlateau reducing learning rate to 5.0446744715693416e-45.\n",
      "Epoch 44/100\n",
      "1407/1407 [==============================] - 0s 195us/step - loss: 0.0089 - mean_squared_error: 0.0089 - val_loss: 7.7547e-04 - val_mean_squared_error: 7.7547e-04\n",
      "\n",
      "Epoch 00044: val_loss did not improve from 0.22525\n",
      "\n",
      "Epoch 00044: ReduceLROnPlateau reducing learning rate to 5.6051938572992686e-46.\n",
      "Epoch 45/100\n",
      "1407/1407 [==============================] - 0s 183us/step - loss: 0.0083 - mean_squared_error: 0.0083 - val_loss: 7.7547e-04 - val_mean_squared_error: 7.7547e-04\n",
      "\n",
      "Epoch 00045: val_loss did not improve from 0.22525\n",
      "Epoch 46/100\n",
      "1407/1407 [==============================] - 0s 216us/step - loss: 0.0085 - mean_squared_error: 0.0085 - val_loss: 7.7547e-04 - val_mean_squared_error: 7.7547e-04\n",
      "\n",
      "Epoch 00046: val_loss did not improve from 0.22525\n",
      "Epoch 47/100\n",
      "1407/1407 [==============================] - 0s 219us/step - loss: 0.0090 - mean_squared_error: 0.0090 - val_loss: 7.7547e-04 - val_mean_squared_error: 7.7547e-04\n",
      "\n",
      "Epoch 00047: val_loss did not improve from 0.22525\n",
      "Epoch 48/100\n",
      "1407/1407 [==============================] - 0s 232us/step - loss: 0.0089 - mean_squared_error: 0.0089 - val_loss: 7.7547e-04 - val_mean_squared_error: 7.7547e-04\n",
      "\n",
      "Epoch 00048: val_loss did not improve from 0.22525\n",
      "Epoch 49/100\n",
      "1407/1407 [==============================] - 0s 218us/step - loss: 0.0089 - mean_squared_error: 0.0089 - val_loss: 7.7547e-04 - val_mean_squared_error: 7.7547e-04\n",
      "\n",
      "Epoch 00049: val_loss did not improve from 0.22525\n",
      "Epoch 50/100\n",
      "1407/1407 [==============================] - 0s 211us/step - loss: 0.0086 - mean_squared_error: 0.0086 - val_loss: 7.7547e-04 - val_mean_squared_error: 7.7547e-04\n",
      "\n",
      "Epoch 00050: val_loss did not improve from 0.22525\n",
      "Epoch 51/100\n",
      "1407/1407 [==============================] - 0s 208us/step - loss: 0.0087 - mean_squared_error: 0.0087 - val_loss: 7.7547e-04 - val_mean_squared_error: 7.7547e-04\n",
      "\n",
      "Epoch 00051: val_loss did not improve from 0.22525\n",
      "Epoch 52/100\n",
      "1407/1407 [==============================] - 0s 220us/step - loss: 0.0091 - mean_squared_error: 0.0091 - val_loss: 7.7547e-04 - val_mean_squared_error: 7.7547e-04\n",
      "\n",
      "Epoch 00052: val_loss did not improve from 0.22525\n",
      "Epoch 53/100\n",
      "1407/1407 [==============================] - 0s 217us/step - loss: 0.0085 - mean_squared_error: 0.0085 - val_loss: 7.7547e-04 - val_mean_squared_error: 7.7547e-04\n",
      "\n",
      "Epoch 00053: val_loss did not improve from 0.22525\n",
      "Epoch 54/100\n",
      "1407/1407 [==============================] - 0s 224us/step - loss: 0.0090 - mean_squared_error: 0.0090 - val_loss: 7.7547e-04 - val_mean_squared_error: 7.7547e-04\n",
      "\n",
      "Epoch 00054: val_loss did not improve from 0.22525\n",
      "Epoch 55/100\n",
      "1407/1407 [==============================] - 0s 248us/step - loss: 0.0087 - mean_squared_error: 0.0087 - val_loss: 7.7547e-04 - val_mean_squared_error: 7.7547e-04\n",
      "\n",
      "Epoch 00055: val_loss did not improve from 0.22525\n",
      "Epoch 56/100\n",
      "1407/1407 [==============================] - 0s 249us/step - loss: 0.0084 - mean_squared_error: 0.0084 - val_loss: 7.7547e-04 - val_mean_squared_error: 7.7547e-04\n"
     ]
    },
    {
     "name": "stdout",
     "output_type": "stream",
     "text": [
      "\n",
      "Epoch 00056: val_loss did not improve from 0.22525\n",
      "Epoch 57/100\n",
      "1407/1407 [==============================] - 0s 173us/step - loss: 0.0089 - mean_squared_error: 0.0089 - val_loss: 7.7547e-04 - val_mean_squared_error: 7.7547e-04\n",
      "\n",
      "Epoch 00057: val_loss did not improve from 0.22525\n",
      "Epoch 58/100\n",
      "1407/1407 [==============================] - 0s 172us/step - loss: 0.0090 - mean_squared_error: 0.0090 - val_loss: 7.7547e-04 - val_mean_squared_error: 7.7547e-04\n",
      "\n",
      "Epoch 00058: val_loss did not improve from 0.22525\n",
      "Epoch 59/100\n",
      "1407/1407 [==============================] - 0s 171us/step - loss: 0.0087 - mean_squared_error: 0.0087 - val_loss: 7.7547e-04 - val_mean_squared_error: 7.7547e-04\n",
      "\n",
      "Epoch 00059: val_loss did not improve from 0.22525\n",
      "Epoch 60/100\n",
      "1407/1407 [==============================] - 0s 182us/step - loss: 0.0085 - mean_squared_error: 0.0085 - val_loss: 7.7547e-04 - val_mean_squared_error: 7.7547e-04\n",
      "\n",
      "Epoch 00060: val_loss did not improve from 0.22525\n",
      "Epoch 61/100\n",
      "1407/1407 [==============================] - 0s 182us/step - loss: 0.0088 - mean_squared_error: 0.0088 - val_loss: 7.7547e-04 - val_mean_squared_error: 7.7547e-04\n",
      "\n",
      "Epoch 00061: val_loss did not improve from 0.22525\n",
      "Epoch 62/100\n",
      "1407/1407 [==============================] - 0s 171us/step - loss: 0.0088 - mean_squared_error: 0.0088 - val_loss: 7.7547e-04 - val_mean_squared_error: 7.7547e-04\n",
      "\n",
      "Epoch 00062: val_loss did not improve from 0.22525\n",
      "Epoch 63/100\n",
      "1407/1407 [==============================] - 0s 183us/step - loss: 0.0085 - mean_squared_error: 0.0085 - val_loss: 7.7547e-04 - val_mean_squared_error: 7.7547e-04\n",
      "\n",
      "Epoch 00063: val_loss did not improve from 0.22525\n",
      "Epoch 64/100\n",
      "1407/1407 [==============================] - 0s 215us/step - loss: 0.0090 - mean_squared_error: 0.0090 - val_loss: 7.7547e-04 - val_mean_squared_error: 7.7547e-04\n",
      "\n",
      "Epoch 00064: val_loss did not improve from 0.22525\n",
      "Epoch 65/100\n",
      "1407/1407 [==============================] - 0s 207us/step - loss: 0.0088 - mean_squared_error: 0.0088 - val_loss: 7.7547e-04 - val_mean_squared_error: 7.7547e-04\n",
      "\n",
      "Epoch 00065: val_loss did not improve from 0.22525\n",
      "Epoch 66/100\n",
      "1407/1407 [==============================] - 0s 210us/step - loss: 0.0087 - mean_squared_error: 0.0087 - val_loss: 7.7547e-04 - val_mean_squared_error: 7.7547e-04\n",
      "\n",
      "Epoch 00066: val_loss did not improve from 0.22525\n",
      "Epoch 67/100\n",
      "1407/1407 [==============================] - 0s 222us/step - loss: 0.0087 - mean_squared_error: 0.0087 - val_loss: 7.7547e-04 - val_mean_squared_error: 7.7547e-04\n",
      "\n",
      "Epoch 00067: val_loss did not improve from 0.22525\n",
      "Epoch 68/100\n",
      "1407/1407 [==============================] - 0s 219us/step - loss: 0.0088 - mean_squared_error: 0.0088 - val_loss: 7.7547e-04 - val_mean_squared_error: 7.7547e-04\n",
      "\n",
      "Epoch 00068: val_loss did not improve from 0.22525\n",
      "Epoch 69/100\n",
      "1407/1407 [==============================] - 0s 217us/step - loss: 0.0088 - mean_squared_error: 0.0088 - val_loss: 7.7547e-04 - val_mean_squared_error: 7.7547e-04\n",
      "\n",
      "Epoch 00069: val_loss did not improve from 0.22525\n",
      "Epoch 70/100\n",
      "1407/1407 [==============================] - 0s 223us/step - loss: 0.0089 - mean_squared_error: 0.0089 - val_loss: 7.7547e-04 - val_mean_squared_error: 7.7547e-04\n",
      "\n",
      "Epoch 00070: val_loss did not improve from 0.22525\n",
      "Epoch 71/100\n",
      "1407/1407 [==============================] - 0s 218us/step - loss: 0.0088 - mean_squared_error: 0.0088 - val_loss: 7.7547e-04 - val_mean_squared_error: 7.7547e-04\n",
      "\n",
      "Epoch 00071: val_loss did not improve from 0.22525\n",
      "Epoch 72/100\n",
      "1407/1407 [==============================] - 0s 219us/step - loss: 0.0091 - mean_squared_error: 0.0091 - val_loss: 7.7547e-04 - val_mean_squared_error: 7.7547e-04\n",
      "\n",
      "Epoch 00072: val_loss did not improve from 0.22525\n",
      "Epoch 73/100\n",
      "1407/1407 [==============================] - 0s 227us/step - loss: 0.0090 - mean_squared_error: 0.0090 - val_loss: 7.7547e-04 - val_mean_squared_error: 7.7547e-04\n",
      "\n",
      "Epoch 00073: val_loss did not improve from 0.22525\n",
      "Epoch 74/100\n",
      "1407/1407 [==============================] - 0s 223us/step - loss: 0.0086 - mean_squared_error: 0.0086 - val_loss: 7.7547e-04 - val_mean_squared_error: 7.7547e-04\n",
      "\n",
      "Epoch 00074: val_loss did not improve from 0.22525\n",
      "Epoch 75/100\n",
      "1407/1407 [==============================] - 0s 230us/step - loss: 0.0087 - mean_squared_error: 0.0087 - val_loss: 7.7547e-04 - val_mean_squared_error: 7.7547e-04\n",
      "\n",
      "Epoch 00075: val_loss did not improve from 0.22525\n",
      "Epoch 76/100\n",
      "1407/1407 [==============================] - 0s 270us/step - loss: 0.0088 - mean_squared_error: 0.0088 - val_loss: 7.7547e-04 - val_mean_squared_error: 7.7547e-04\n",
      "\n",
      "Epoch 00076: val_loss did not improve from 0.22525\n",
      "Epoch 77/100\n",
      "1407/1407 [==============================] - 0s 199us/step - loss: 0.0087 - mean_squared_error: 0.0087 - val_loss: 7.7547e-04 - val_mean_squared_error: 7.7547e-04\n",
      "\n",
      "Epoch 00077: val_loss did not improve from 0.22525\n",
      "Epoch 78/100\n",
      "1407/1407 [==============================] - 0s 202us/step - loss: 0.0089 - mean_squared_error: 0.0089 - val_loss: 7.7547e-04 - val_mean_squared_error: 7.7547e-04\n",
      "\n",
      "Epoch 00078: val_loss did not improve from 0.22525\n",
      "Epoch 79/100\n",
      "1407/1407 [==============================] - 0s 249us/step - loss: 0.0089 - mean_squared_error: 0.0089 - val_loss: 7.7547e-04 - val_mean_squared_error: 7.7547e-04\n",
      "\n",
      "Epoch 00079: val_loss did not improve from 0.22525\n",
      "Epoch 80/100\n",
      "1407/1407 [==============================] - 0s 198us/step - loss: 0.0086 - mean_squared_error: 0.0086 - val_loss: 7.7547e-04 - val_mean_squared_error: 7.7547e-04\n",
      "\n",
      "Epoch 00080: val_loss did not improve from 0.22525\n",
      "Epoch 81/100\n",
      "1407/1407 [==============================] - 0s 206us/step - loss: 0.0092 - mean_squared_error: 0.0092 - val_loss: 7.7547e-04 - val_mean_squared_error: 7.7547e-04\n",
      "\n",
      "Epoch 00081: val_loss did not improve from 0.22525\n",
      "Epoch 82/100\n",
      "1407/1407 [==============================] - 0s 199us/step - loss: 0.0087 - mean_squared_error: 0.0087 - val_loss: 7.7547e-04 - val_mean_squared_error: 7.7547e-04\n",
      "\n",
      "Epoch 00082: val_loss did not improve from 0.22525\n",
      "Epoch 83/100\n",
      "1407/1407 [==============================] - 0s 220us/step - loss: 0.0086 - mean_squared_error: 0.0086 - val_loss: 7.7547e-04 - val_mean_squared_error: 7.7547e-04\n",
      "\n",
      "Epoch 00083: val_loss did not improve from 0.22525\n",
      "Epoch 84/100\n",
      "1407/1407 [==============================] - 0s 214us/step - loss: 0.0089 - mean_squared_error: 0.0089 - val_loss: 7.7547e-04 - val_mean_squared_error: 7.7547e-04\n",
      "\n",
      "Epoch 00084: val_loss did not improve from 0.22525\n",
      "Epoch 85/100\n",
      "1407/1407 [==============================] - 0s 218us/step - loss: 0.0090 - mean_squared_error: 0.0090 - val_loss: 7.7547e-04 - val_mean_squared_error: 7.7547e-04\n",
      "\n",
      "Epoch 00085: val_loss did not improve from 0.22525\n",
      "Epoch 86/100\n",
      "1407/1407 [==============================] - 0s 217us/step - loss: 0.0085 - mean_squared_error: 0.0085 - val_loss: 7.7547e-04 - val_mean_squared_error: 7.7547e-04\n",
      "\n",
      "Epoch 00086: val_loss did not improve from 0.22525\n",
      "Epoch 87/100\n",
      "1407/1407 [==============================] - 0s 218us/step - loss: 0.0087 - mean_squared_error: 0.0087 - val_loss: 7.7547e-04 - val_mean_squared_error: 7.7547e-04\n",
      "\n",
      "Epoch 00087: val_loss did not improve from 0.22525\n",
      "Epoch 88/100\n",
      "1407/1407 [==============================] - 0s 230us/step - loss: 0.0088 - mean_squared_error: 0.0088 - val_loss: 7.7547e-04 - val_mean_squared_error: 7.7547e-04\n",
      "\n",
      "Epoch 00088: val_loss did not improve from 0.22525\n",
      "Epoch 89/100\n",
      "1407/1407 [==============================] - 0s 230us/step - loss: 0.0089 - mean_squared_error: 0.0089 - val_loss: 7.7547e-04 - val_mean_squared_error: 7.7547e-04\n",
      "\n",
      "Epoch 00089: val_loss did not improve from 0.22525\n",
      "Epoch 90/100\n",
      "1407/1407 [==============================] - 0s 237us/step - loss: 0.0087 - mean_squared_error: 0.0087 - val_loss: 7.7547e-04 - val_mean_squared_error: 7.7547e-04\n",
      "\n",
      "Epoch 00090: val_loss did not improve from 0.22525\n",
      "Epoch 91/100\n",
      "1407/1407 [==============================] - 0s 233us/step - loss: 0.0086 - mean_squared_error: 0.0086 - val_loss: 7.7547e-04 - val_mean_squared_error: 7.7547e-04\n",
      "\n",
      "Epoch 00091: val_loss did not improve from 0.22525\n",
      "Epoch 92/100\n",
      "1407/1407 [==============================] - 0s 263us/step - loss: 0.0086 - mean_squared_error: 0.0086 - val_loss: 7.7547e-04 - val_mean_squared_error: 7.7547e-04\n"
     ]
    },
    {
     "name": "stdout",
     "output_type": "stream",
     "text": [
      "\n",
      "Epoch 00092: val_loss did not improve from 0.22525\n",
      "Epoch 93/100\n",
      "1407/1407 [==============================] - 0s 272us/step - loss: 0.0087 - mean_squared_error: 0.0087 - val_loss: 7.7547e-04 - val_mean_squared_error: 7.7547e-04\n",
      "\n",
      "Epoch 00093: val_loss did not improve from 0.22525\n",
      "Epoch 94/100\n",
      "1407/1407 [==============================] - 0s 222us/step - loss: 0.0089 - mean_squared_error: 0.0089 - val_loss: 7.7547e-04 - val_mean_squared_error: 7.7547e-04\n",
      "\n",
      "Epoch 00094: val_loss did not improve from 0.22525\n",
      "Epoch 95/100\n",
      "1407/1407 [==============================] - 0s 246us/step - loss: 0.0085 - mean_squared_error: 0.0085 - val_loss: 7.7547e-04 - val_mean_squared_error: 7.7547e-04\n",
      "\n",
      "Epoch 00095: val_loss did not improve from 0.22525\n",
      "Epoch 96/100\n",
      "1407/1407 [==============================] - 0s 277us/step - loss: 0.0090 - mean_squared_error: 0.0090 - val_loss: 7.7547e-04 - val_mean_squared_error: 7.7547e-04\n",
      "\n",
      "Epoch 00096: val_loss did not improve from 0.22525\n",
      "Epoch 97/100\n",
      "1407/1407 [==============================] - 0s 258us/step - loss: 0.0089 - mean_squared_error: 0.0089 - val_loss: 7.7547e-04 - val_mean_squared_error: 7.7547e-04\n",
      "\n",
      "Epoch 00097: val_loss did not improve from 0.22525\n",
      "Epoch 98/100\n",
      "1407/1407 [==============================] - 0s 328us/step - loss: 0.0089 - mean_squared_error: 0.0089 - val_loss: 7.7547e-04 - val_mean_squared_error: 7.7547e-04\n",
      "\n",
      "Epoch 00098: val_loss did not improve from 0.22525\n",
      "Epoch 99/100\n",
      "1407/1407 [==============================] - 0s 256us/step - loss: 0.0086 - mean_squared_error: 0.0086 - val_loss: 7.7547e-04 - val_mean_squared_error: 7.7547e-04\n",
      "\n",
      "Epoch 00099: val_loss did not improve from 0.22525\n",
      "Epoch 100/100\n",
      "1407/1407 [==============================] - 0s 193us/step - loss: 0.0088 - mean_squared_error: 0.0088 - val_loss: 7.7547e-04 - val_mean_squared_error: 7.7547e-04\n",
      "\n",
      "Epoch 00100: val_loss did not improve from 0.22525\n"
     ]
    }
   ],
   "source": [
    "history = model.fit(trainX, trainY, epochs=100 , batch_size = 128 , \n",
    "          callbacks = [checkpoint , lr_reduce] , validation_data = (testX,testY))"
   ]
  },
  {
   "cell_type": "code",
   "execution_count": 68,
   "id": "0ff16d30",
   "metadata": {},
   "outputs": [
    {
     "data": {
      "text/plain": [
       "array([[0.71513754],\n",
       "       [0.7058963 ],\n",
       "       [0.7080304 ],\n",
       "       [0.7100308 ],\n",
       "       [0.7163413 ],\n",
       "       [0.72275877],\n",
       "       [0.7197917 ],\n",
       "       [0.7013277 ],\n",
       "       [0.67105705],\n",
       "       [0.63222396]], dtype=float32)"
      ]
     },
     "metadata": {},
     "output_type": "display_data"
    }
   ],
   "source": [
    "test_pred = model.predict(testX)\n",
    "display (test_pred [:10])"
   ]
  },
  {
   "cell_type": "code",
   "execution_count": 69,
   "id": "286e1b8b",
   "metadata": {},
   "outputs": [
    {
     "data": {
      "text/plain": [
       "array([0.71941862, 0.72062985, 0.72466695, 0.73718213, 0.74162302,\n",
       "       0.72951148, 0.69317728, 0.64957607, 0.59023021, 0.56479618,\n",
       "       0.62373841, 0.62010498, 0.64594265, 0.63100526, 0.58740405,\n",
       "       0.61727898, 0.62333477, 0.5979007 , 0.6548244 , 0.63100526,\n",
       "       0.65199844, 0.66451346, 0.64997987, 0.66733962, 0.67864353,\n",
       "       0.61687535, 0.6023416 , 0.62050878, 0.59467095, 0.58659679,\n",
       "       0.58942275, 0.58901895, 0.56439239, 0.56721835, 0.59184495,\n",
       "       0.59668964, 0.62293094, 0.65119097, 0.65684297, 0.65401697,\n",
       "       0.66330236, 0.67178031, 0.66935815, 0.6604764 , 0.63786832,\n",
       "       0.64957607, 0.64230922, 0.62212351, 0.62171988, 0.61203066,\n",
       "       0.65926529, 0.67056925, 0.68268063, 0.68146953, 0.70327014,\n",
       "       0.70246271, 0.70165524, 0.73839323, 0.75656041, 0.76786436,\n",
       "       0.762616  , 0.77351632, 0.75252314, 0.74525629, 0.70972956,\n",
       "       0.69317728, 0.63948322, 0.67258778, 0.67299158, 0.69600328,\n",
       "       0.70892209, 0.72184095, 0.71376662, 0.72668548, 0.71861115,\n",
       "       0.71538152, 0.70690356, 0.71740009, 0.69600328, 0.66007272,\n",
       "       0.71457409, 0.70084781, 0.69721438, 0.69115875, 0.67541378,\n",
       "       0.63584979, 0.65361334, 0.67622121, 0.70448124, 0.62454584,\n",
       "       0.60113034, 0.60395633, 0.61081956, 0.62454584, 0.62777547,\n",
       "       0.61889388, 0.62898673, 0.62414204, 0.60839723, 0.57690757,\n",
       "       0.57246667, 0.57973357, 0.5482439 , 0.53249909, 0.54420668,\n",
       "       0.56156639, 0.50948738, 0.53815105, 0.51110212, 0.52846183,\n",
       "       0.50383526, 0.51110212, 0.53855468, 0.51998387, 0.55591443,\n",
       "       0.54299558, 0.55995165, 0.5995156 , 0.59991927, 0.56075892,\n",
       "       0.57448524, 0.6051676 , 0.57488904, 0.57125561, 0.5498588 ,\n",
       "       0.55470333, 0.54016958, 0.56842961, 0.57488904, 0.61243445,\n",
       "       0.61243445, 0.61849008, 0.63181273, 0.60920466, 0.61243445,\n",
       "       0.63907959, 0.62575694, 0.61849008, 0.66733962, 0.65805403,\n",
       "       0.66330236, 0.66330236, 0.682277  , 0.67379904, 0.68712153,\n",
       "       0.66976178, 0.70609614, 0.69600328, 0.69761818, 0.75736783,\n",
       "       0.77311269, 0.80823578, 0.8134841 , 0.80419868, 0.77876464,\n",
       "       0.7876464 , 0.77351632, 0.77674611, 0.7876464 , 0.78522407,\n",
       "       0.79531692, 0.7916835 , 0.76988289, 0.77876464, 0.74727498,\n",
       "       0.76301983, 0.76423089, 0.765442  , 0.80137268, 0.79854672,\n",
       "       0.78966493, 0.79854672, 0.79127982, 0.79289456, 0.78845386,\n",
       "       0.77674611, 0.77997575, 0.77472758, 0.7828017 , 0.76180873,\n",
       "       0.74283412, 0.76059747, 0.73556723, 0.71982242, 0.71740009,\n",
       "       0.72466695, 0.72264842, 0.74929351, 0.73435617, 0.74121923,\n",
       "       0.73274127, 0.74727498, 0.73233744, 0.72708927, 0.70165524,\n",
       "       0.72466695, 0.71538152, 0.74444902, 0.75373441, 0.74646755,\n",
       "       0.75131208, 0.75656041, 0.75898257, 0.69438839, 0.71215173,\n",
       "       0.72587805, 0.71336299, 0.71941862, 0.7101332 , 0.69761818,\n",
       "       0.69277349, 0.70125161, 0.68550663, 0.69358092, 0.73556723,\n",
       "       0.7375858 , 0.74808245, 0.74888972, 0.78199444, 0.71740009,\n",
       "       0.68712153, 0.71336299, 0.77069032, 0.7860315 , 0.78320554,\n",
       "       0.76463473, 0.76988289, 0.76988289, 0.78360917, 0.77997575,\n",
       "       0.80581341, 0.80742831, 0.81590627, 0.81994349, 0.81469516,\n",
       "       0.79208729, 0.79895035, 0.7916835 , 0.79208729, 0.79531692,\n",
       "       0.78643517, 0.7860315 , 0.79652803, 0.79047239, 0.79491329,\n",
       "       0.77714975, 0.77714975, 0.78482044, 0.79410582, 0.79531692,\n",
       "       0.79289456, 0.79249092, 0.80016145, 0.79249092, 0.80460231,\n",
       "       0.80177635, 0.79733545, 0.79450946, 0.80177635, 0.79773925,\n",
       "       0.80904321, 0.7916835 , 0.79289456, 0.79935398, 0.80137268,\n",
       "       0.80137268, 0.79773925, 0.79531692, 0.79895035, 0.79895035,\n",
       "       0.79895035, 0.77755354, 0.74969718, 0.77593864, 0.75575294,\n",
       "       0.75857894, 0.78320554, 0.70488487, 0.71740009, 0.71094067,\n",
       "       0.72870401, 0.72870401, 0.71740009, 0.70932577, 0.72022605,\n",
       "       0.72587805, 0.7129592 , 0.71941862, 0.70771103, 0.70286634,\n",
       "       0.71417046, 0.70286634, 0.69640692, 0.69277349, 0.66814688,\n",
       "       0.66976178, 0.66895435, 0.68429553, 0.679451  , 0.68469916,\n",
       "       0.68187317, 0.67137668, 0.66491725, 0.67864353, 0.682277  ,\n",
       "       0.68025843, 0.676625  , 0.67460631, 0.68469916, 0.68631406,\n",
       "       0.66895435, 0.68025843, 0.67904721, 0.71174809, 0.71336299,\n",
       "       0.7303189 , 0.73153017, 0.72628184, 0.72022605, 0.71497773,\n",
       "       0.7363747 , 0.75857894, 0.74283412, 0.74404519, 0.75211951,\n",
       "       0.75252314, 0.75938636, 0.76059747, 0.77069032, 0.75615661,\n",
       "       0.69600328, 0.68792896, 0.70690356, 0.72708927, 0.76140493,\n",
       "       0.762616  , 0.76947922, 0.76907542, 0.77916828, 0.78401297,\n",
       "       0.78320554, 0.71215173, 0.70407761, 0.70811467, 0.70125161,\n",
       "       0.70649977, 0.69923291, 0.70084781, 0.69519581, 0.69559949,\n",
       "       0.68591043])"
      ]
     },
     "execution_count": 69,
     "metadata": {},
     "output_type": "execute_result"
    }
   ],
   "source": [
    "testY"
   ]
  },
  {
   "cell_type": "code",
   "execution_count": 70,
   "id": "81de1cea",
   "metadata": {},
   "outputs": [
    {
     "data": {
      "text/plain": [
       "array([[39.173954],\n",
       "       [38.94505 ],\n",
       "       [38.997913],\n",
       "       [39.047462],\n",
       "       [39.203773],\n",
       "       [39.362736],\n",
       "       [39.289238],\n",
       "       [38.831886],\n",
       "       [38.08208 ],\n",
       "       [37.12019 ]], dtype=float32)"
      ]
     },
     "metadata": {},
     "output_type": "display_data"
    }
   ],
   "source": [
    "test_pred = scaler.inverse_transform(test_pred)\n",
    "display (test_pred [:10])"
   ]
  },
  {
   "cell_type": "code",
   "execution_count": 71,
   "id": "c87f6ccd",
   "metadata": {},
   "outputs": [
    {
     "data": {
      "text/plain": [
       "array([[39.279999],\n",
       "       [39.310001],\n",
       "       [39.41    ],\n",
       "       [39.720001],\n",
       "       [39.830002],\n",
       "       [39.529999],\n",
       "       [38.630001],\n",
       "       [37.549999],\n",
       "       [36.080002],\n",
       "       [35.450001]])"
      ]
     },
     "metadata": {},
     "output_type": "display_data"
    }
   ],
   "source": [
    "testY = testY.reshape(testY.shape[0] , 1)\n",
    "#Converting reshaped list in 1D array so that it will be efficient in plotting\n",
    "testY = scaler.inverse_transform(testY)\n",
    "# taking testY from 1 to 10\n",
    "display (testY[:10])"
   ]
  },
  {
   "cell_type": "code",
   "execution_count": 72,
   "id": "1bf9c06f",
   "metadata": {},
   "outputs": [
    {
     "data": {
      "text/plain": [
       "0.860326553224684"
      ]
     },
     "execution_count": 72,
     "metadata": {},
     "output_type": "execute_result"
    }
   ],
   "source": [
    "from sklearn.metrics import r2_score\n",
    "r2_score(testY,test_pred)"
   ]
  },
  {
   "cell_type": "code",
   "execution_count": 73,
   "id": "22499690",
   "metadata": {},
   "outputs": [
    {
     "name": "stdout",
     "output_type": "stream",
     "text": [
      "Red - Predicted Stock Prices  ,  Blue - Actual Stock Prices\n"
     ]
    },
    {
     "data": {
      "image/png": "[encoded data removed]",
      "text/plain": [
       "<Figure size 1080x504 with 1 Axes>"
      ]
     },
     "metadata": {
      "needs_background": "light"
     },
     "output_type": "display_data"
    }
   ],
   "source": [
    "# Ploting the graph of stock prices with time\n",
    "print(\"Red - Predicted Stock Prices  ,  Blue - Actual Stock Prices\")\n",
    "plt.rcParams[\"figure.figsize\"] = (15,7)\n",
    "# testY is the blue line\n",
    "plt.plot(testY , 'b')\n",
    "# pred is the red line\n",
    "plt.plot(test_pred , 'r')\n",
    "# Setting x axis as time\n",
    "plt.xlabel('Time')\n",
    "# Setting y axis as stock prices\n",
    "plt.ylabel('Stock Prices')\n",
    "# setting title \n",
    "plt.title('Check the accuracy of the model with time')\n",
    "# enabling grids in graph \n",
    "plt.grid(True)\n",
    "# it call the graph with labels, titles, lines\n",
    "plt.show()"
   ]
  },
  {
   "cell_type": "code",
   "execution_count": 74,
   "id": "5664577b",
   "metadata": {},
   "outputs": [
    {
     "name": "stdout",
     "output_type": "stream",
     "text": [
      "Display Accuracy Training Data\n"
     ]
    },
    {
     "data": {
      "text/plain": [
       "0.8815763535909141"
      ]
     },
     "metadata": {},
     "output_type": "display_data"
    }
   ],
   "source": [
    "train_pred = model.predict(trainX)\n",
    "train_pred = scaler.inverse_transform(train_pred)\n",
    "trainY = trainY.reshape(trainY.shape[0] , 1)\n",
    "trainY = scaler.inverse_transform(trainY)\n",
    "print ('Display Accuracy Training Data')\n",
    "display (r2_score(trainY,train_pred))"
   ]
  },
  {
   "cell_type": "code",
   "execution_count": 75,
   "id": "562ff13c",
   "metadata": {},
   "outputs": [
    {
     "name": "stdout",
     "output_type": "stream",
     "text": [
      "Red - Predicted Stock Prices  ,  Blue - Actual Stock Prices\n"
     ]
    },
    {
     "data": {
      "image/png": "[encoded data removed]",
      "text/plain": [
       "<Figure size 1080x504 with 1 Axes>"
      ]
     },
     "metadata": {
      "needs_background": "light"
     },
     "output_type": "display_data"
    }
   ],
   "source": [
    "print(\"Red - Predicted Stock Prices  ,  Blue - Actual Stock Prices\")\n",
    "plt.rcParams[\"figure.figsize\"] = (15,7)\n",
    "plt.plot(trainY  , 'b')\n",
    "plt.plot(train_pred, 'r')\n",
    "plt.xlabel('Time')\n",
    "plt.ylabel('Stock Prices')\n",
    "plt.title('Check the accuracy of the model with time')\n",
    "plt.grid(True)\n",
    "plt.show()"
   ]
  },
  {
   "cell_type": "code",
   "execution_count": 76,
   "id": "d6096883",
   "metadata": {},
   "outputs": [
    {
     "name": "stdout",
     "output_type": "stream",
     "text": [
      "Display Accuracy Training Data\n"
     ]
    },
    {
     "data": {
      "text/plain": [
       "0.8985062490724529"
      ]
     },
     "metadata": {},
     "output_type": "display_data"
    }
   ],
   "source": [
    "stocks_pred = model.predict(stocksX)\n",
    "stocks_pred = scaler.inverse_transform(stocks_pred)\n",
    "stocksY = stocksY.reshape(stocksY.shape[0] , 1)\n",
    "stocksY = scaler.inverse_transform(stocksY)\n",
    "print ('Display Accuracy Training Data')\n",
    "display (r2_score(stocksY,stocks_pred))"
   ]
  },
  {
   "cell_type": "code",
   "execution_count": 77,
   "id": "fb769ed0",
   "metadata": {},
   "outputs": [
    {
     "data": {
      "image/png": "[encoded data removed]",
      "text/plain": [
       "<Figure size 1080x504 with 1 Axes>"
      ]
     },
     "metadata": {
      "needs_background": "light"
     },
     "output_type": "display_data"
    }
   ],
   "source": [
    "plt.rcParams[\"figure.figsize\"] = (15,7)\n",
    "plt.plot(stocksY  , 'b')\n",
    "plt.plot(stocks_pred, 'r')\n",
    "plt.xlabel('Time')\n",
    "plt.ylabel('Stock Prices')\n",
    "plt.title('Check the accuracy of the model with time')\n",
    "plt.grid(True)\n",
    "plt.show()"
   ]
  },
  {
   "cell_type": "code",
   "execution_count": 83,
   "id": "d270fa94",
   "metadata": {},
   "outputs": [
    {
     "data": {
      "text/html": [
       "<div>\n",
       "<style scoped>\n",
       "    .dataframe tbody tr th:only-of-type {\n",
       "        vertical-align: middle;\n",
       "    }\n",
       "\n",
       "    .dataframe tbody tr th {\n",
       "        vertical-align: top;\n",
       "    }\n",
       "\n",
       "    .dataframe thead th {\n",
       "        text-align: right;\n",
       "    }\n",
       "</style>\n",
       "<table border=\"1\" class=\"dataframe\">\n",
       "  <thead>\n",
       "    <tr style=\"text-align: right;\">\n",
       "      <th></th>\n",
       "      <th>date</th>\n",
       "      <th>symbol</th>\n",
       "      <th>open</th>\n",
       "      <th>close</th>\n",
       "      <th>low</th>\n",
       "      <th>high</th>\n",
       "      <th>volume</th>\n",
       "    </tr>\n",
       "  </thead>\n",
       "  <tbody>\n",
       "    <tr>\n",
       "      <th>571</th>\n",
       "      <td>2010-01-04</td>\n",
       "      <td>ORCL</td>\n",
       "      <td>24.660000</td>\n",
       "      <td>24.850000</td>\n",
       "      <td>24.660000</td>\n",
       "      <td>25.190001</td>\n",
       "      <td>26795000.0</td>\n",
       "    </tr>\n",
       "    <tr>\n",
       "      <th>1039</th>\n",
       "      <td>2010-01-05</td>\n",
       "      <td>ORCL</td>\n",
       "      <td>24.719999</td>\n",
       "      <td>24.820000</td>\n",
       "      <td>24.350000</td>\n",
       "      <td>24.850000</td>\n",
       "      <td>28669900.0</td>\n",
       "    </tr>\n",
       "    <tr>\n",
       "      <th>1507</th>\n",
       "      <td>2010-01-06</td>\n",
       "      <td>ORCL</td>\n",
       "      <td>24.770000</td>\n",
       "      <td>24.459999</td>\n",
       "      <td>24.379999</td>\n",
       "      <td>24.920000</td>\n",
       "      <td>24560700.0</td>\n",
       "    </tr>\n",
       "    <tr>\n",
       "      <th>1975</th>\n",
       "      <td>2010-01-07</td>\n",
       "      <td>ORCL</td>\n",
       "      <td>24.459999</td>\n",
       "      <td>24.379999</td>\n",
       "      <td>24.080000</td>\n",
       "      <td>24.610001</td>\n",
       "      <td>30469700.0</td>\n",
       "    </tr>\n",
       "    <tr>\n",
       "      <th>2443</th>\n",
       "      <td>2010-01-08</td>\n",
       "      <td>ORCL</td>\n",
       "      <td>24.280001</td>\n",
       "      <td>24.680000</td>\n",
       "      <td>24.250000</td>\n",
       "      <td>24.750000</td>\n",
       "      <td>23542400.0</td>\n",
       "    </tr>\n",
       "    <tr>\n",
       "      <th>...</th>\n",
       "      <td>...</td>\n",
       "      <td>...</td>\n",
       "      <td>...</td>\n",
       "      <td>...</td>\n",
       "      <td>...</td>\n",
       "      <td>...</td>\n",
       "      <td>...</td>\n",
       "    </tr>\n",
       "    <tr>\n",
       "      <th>849107</th>\n",
       "      <td>2016-12-23</td>\n",
       "      <td>ORCL</td>\n",
       "      <td>38.790001</td>\n",
       "      <td>38.779999</td>\n",
       "      <td>38.630001</td>\n",
       "      <td>39.020000</td>\n",
       "      <td>8143600.0</td>\n",
       "    </tr>\n",
       "    <tr>\n",
       "      <th>849607</th>\n",
       "      <td>2016-12-27</td>\n",
       "      <td>ORCL</td>\n",
       "      <td>38.770000</td>\n",
       "      <td>38.820000</td>\n",
       "      <td>38.759998</td>\n",
       "      <td>39.040001</td>\n",
       "      <td>5073700.0</td>\n",
       "    </tr>\n",
       "    <tr>\n",
       "      <th>850107</th>\n",
       "      <td>2016-12-28</td>\n",
       "      <td>ORCL</td>\n",
       "      <td>38.869999</td>\n",
       "      <td>38.680000</td>\n",
       "      <td>38.630001</td>\n",
       "      <td>38.919998</td>\n",
       "      <td>8264100.0</td>\n",
       "    </tr>\n",
       "    <tr>\n",
       "      <th>850607</th>\n",
       "      <td>2016-12-29</td>\n",
       "      <td>ORCL</td>\n",
       "      <td>38.610001</td>\n",
       "      <td>38.689999</td>\n",
       "      <td>38.610001</td>\n",
       "      <td>38.840000</td>\n",
       "      <td>5711800.0</td>\n",
       "    </tr>\n",
       "    <tr>\n",
       "      <th>851107</th>\n",
       "      <td>2016-12-30</td>\n",
       "      <td>ORCL</td>\n",
       "      <td>38.750000</td>\n",
       "      <td>38.450001</td>\n",
       "      <td>38.340000</td>\n",
       "      <td>38.860001</td>\n",
       "      <td>10820200.0</td>\n",
       "    </tr>\n",
       "  </tbody>\n",
       "</table>\n",
       "<p>1762 rows × 7 columns</p>\n",
       "</div>"
      ],
      "text/plain": [
       "              date symbol       open      close        low       high  \\\n",
       "571     2010-01-04   ORCL  24.660000  24.850000  24.660000  25.190001   \n",
       "1039    2010-01-05   ORCL  24.719999  24.820000  24.350000  24.850000   \n",
       "1507    2010-01-06   ORCL  24.770000  24.459999  24.379999  24.920000   \n",
       "1975    2010-01-07   ORCL  24.459999  24.379999  24.080000  24.610001   \n",
       "2443    2010-01-08   ORCL  24.280001  24.680000  24.250000  24.750000   \n",
       "...            ...    ...        ...        ...        ...        ...   \n",
       "849107  2016-12-23   ORCL  38.790001  38.779999  38.630001  39.020000   \n",
       "849607  2016-12-27   ORCL  38.770000  38.820000  38.759998  39.040001   \n",
       "850107  2016-12-28   ORCL  38.869999  38.680000  38.630001  38.919998   \n",
       "850607  2016-12-29   ORCL  38.610001  38.689999  38.610001  38.840000   \n",
       "851107  2016-12-30   ORCL  38.750000  38.450001  38.340000  38.860001   \n",
       "\n",
       "            volume  \n",
       "571     26795000.0  \n",
       "1039    28669900.0  \n",
       "1507    24560700.0  \n",
       "1975    30469700.0  \n",
       "2443    23542400.0  \n",
       "...            ...  \n",
       "849107   8143600.0  \n",
       "849607   5073700.0  \n",
       "850107   8264100.0  \n",
       "850607   5711800.0  \n",
       "851107  10820200.0  \n",
       "\n",
       "[1762 rows x 7 columns]"
      ]
     },
     "execution_count": 83,
     "metadata": {},
     "output_type": "execute_result"
    }
   ],
   "source": [
    "results= df[df.symbol.isin (['ORCL'])]\n",
    "results"
   ]
  },
  {
   "cell_type": "code",
   "execution_count": 84,
   "id": "88491a2c",
   "metadata": {},
   "outputs": [
    {
     "data": {
      "text/html": [
       "<div>\n",
       "<style scoped>\n",
       "    .dataframe tbody tr th:only-of-type {\n",
       "        vertical-align: middle;\n",
       "    }\n",
       "\n",
       "    .dataframe tbody tr th {\n",
       "        vertical-align: top;\n",
       "    }\n",
       "\n",
       "    .dataframe thead th {\n",
       "        text-align: right;\n",
       "    }\n",
       "</style>\n",
       "<table border=\"1\" class=\"dataframe\">\n",
       "  <thead>\n",
       "    <tr style=\"text-align: right;\">\n",
       "      <th></th>\n",
       "      <th>date</th>\n",
       "      <th>symbol</th>\n",
       "      <th>open</th>\n",
       "      <th>close</th>\n",
       "      <th>low</th>\n",
       "      <th>high</th>\n",
       "      <th>volume</th>\n",
       "    </tr>\n",
       "  </thead>\n",
       "  <tbody>\n",
       "    <tr>\n",
       "      <th>1507</th>\n",
       "      <td>2010-01-06</td>\n",
       "      <td>ORCL</td>\n",
       "      <td>24.770000</td>\n",
       "      <td>24.459999</td>\n",
       "      <td>24.379999</td>\n",
       "      <td>24.920000</td>\n",
       "      <td>24560700.0</td>\n",
       "    </tr>\n",
       "    <tr>\n",
       "      <th>1975</th>\n",
       "      <td>2010-01-07</td>\n",
       "      <td>ORCL</td>\n",
       "      <td>24.459999</td>\n",
       "      <td>24.379999</td>\n",
       "      <td>24.080000</td>\n",
       "      <td>24.610001</td>\n",
       "      <td>30469700.0</td>\n",
       "    </tr>\n",
       "    <tr>\n",
       "      <th>2443</th>\n",
       "      <td>2010-01-08</td>\n",
       "      <td>ORCL</td>\n",
       "      <td>24.280001</td>\n",
       "      <td>24.680000</td>\n",
       "      <td>24.250000</td>\n",
       "      <td>24.750000</td>\n",
       "      <td>23542400.0</td>\n",
       "    </tr>\n",
       "    <tr>\n",
       "      <th>2911</th>\n",
       "      <td>2010-01-11</td>\n",
       "      <td>ORCL</td>\n",
       "      <td>24.690001</td>\n",
       "      <td>24.690001</td>\n",
       "      <td>24.370001</td>\n",
       "      <td>24.799999</td>\n",
       "      <td>19002400.0</td>\n",
       "    </tr>\n",
       "    <tr>\n",
       "      <th>3379</th>\n",
       "      <td>2010-01-12</td>\n",
       "      <td>ORCL</td>\n",
       "      <td>24.559999</td>\n",
       "      <td>24.559999</td>\n",
       "      <td>24.309999</td>\n",
       "      <td>24.610001</td>\n",
       "      <td>26204600.0</td>\n",
       "    </tr>\n",
       "    <tr>\n",
       "      <th>...</th>\n",
       "      <td>...</td>\n",
       "      <td>...</td>\n",
       "      <td>...</td>\n",
       "      <td>...</td>\n",
       "      <td>...</td>\n",
       "      <td>...</td>\n",
       "      <td>...</td>\n",
       "    </tr>\n",
       "    <tr>\n",
       "      <th>849107</th>\n",
       "      <td>2016-12-23</td>\n",
       "      <td>ORCL</td>\n",
       "      <td>38.790001</td>\n",
       "      <td>38.779999</td>\n",
       "      <td>38.630001</td>\n",
       "      <td>39.020000</td>\n",
       "      <td>8143600.0</td>\n",
       "    </tr>\n",
       "    <tr>\n",
       "      <th>849607</th>\n",
       "      <td>2016-12-27</td>\n",
       "      <td>ORCL</td>\n",
       "      <td>38.770000</td>\n",
       "      <td>38.820000</td>\n",
       "      <td>38.759998</td>\n",
       "      <td>39.040001</td>\n",
       "      <td>5073700.0</td>\n",
       "    </tr>\n",
       "    <tr>\n",
       "      <th>850107</th>\n",
       "      <td>2016-12-28</td>\n",
       "      <td>ORCL</td>\n",
       "      <td>38.869999</td>\n",
       "      <td>38.680000</td>\n",
       "      <td>38.630001</td>\n",
       "      <td>38.919998</td>\n",
       "      <td>8264100.0</td>\n",
       "    </tr>\n",
       "    <tr>\n",
       "      <th>850607</th>\n",
       "      <td>2016-12-29</td>\n",
       "      <td>ORCL</td>\n",
       "      <td>38.610001</td>\n",
       "      <td>38.689999</td>\n",
       "      <td>38.610001</td>\n",
       "      <td>38.840000</td>\n",
       "      <td>5711800.0</td>\n",
       "    </tr>\n",
       "    <tr>\n",
       "      <th>851107</th>\n",
       "      <td>2016-12-30</td>\n",
       "      <td>ORCL</td>\n",
       "      <td>38.750000</td>\n",
       "      <td>38.450001</td>\n",
       "      <td>38.340000</td>\n",
       "      <td>38.860001</td>\n",
       "      <td>10820200.0</td>\n",
       "    </tr>\n",
       "  </tbody>\n",
       "</table>\n",
       "<p>1760 rows × 7 columns</p>\n",
       "</div>"
      ],
      "text/plain": [
       "              date symbol       open      close        low       high  \\\n",
       "1507    2010-01-06   ORCL  24.770000  24.459999  24.379999  24.920000   \n",
       "1975    2010-01-07   ORCL  24.459999  24.379999  24.080000  24.610001   \n",
       "2443    2010-01-08   ORCL  24.280001  24.680000  24.250000  24.750000   \n",
       "2911    2010-01-11   ORCL  24.690001  24.690001  24.370001  24.799999   \n",
       "3379    2010-01-12   ORCL  24.559999  24.559999  24.309999  24.610001   \n",
       "...            ...    ...        ...        ...        ...        ...   \n",
       "849107  2016-12-23   ORCL  38.790001  38.779999  38.630001  39.020000   \n",
       "849607  2016-12-27   ORCL  38.770000  38.820000  38.759998  39.040001   \n",
       "850107  2016-12-28   ORCL  38.869999  38.680000  38.630001  38.919998   \n",
       "850607  2016-12-29   ORCL  38.610001  38.689999  38.610001  38.840000   \n",
       "851107  2016-12-30   ORCL  38.750000  38.450001  38.340000  38.860001   \n",
       "\n",
       "            volume  \n",
       "1507    24560700.0  \n",
       "1975    30469700.0  \n",
       "2443    23542400.0  \n",
       "2911    19002400.0  \n",
       "3379    26204600.0  \n",
       "...            ...  \n",
       "849107   8143600.0  \n",
       "849607   5073700.0  \n",
       "850107   8264100.0  \n",
       "850607   5711800.0  \n",
       "851107  10820200.0  \n",
       "\n",
       "[1760 rows x 7 columns]"
      ]
     },
     "execution_count": 84,
     "metadata": {},
     "output_type": "execute_result"
    }
   ],
   "source": [
    "# Update the data frame starting with 2nd records , since first prediction is for 2nd record\n",
    "results= results [2:]\n",
    "results"
   ]
  },
  {
   "cell_type": "code",
   "execution_count": 85,
   "id": "e5c0c8c6",
   "metadata": {},
   "outputs": [
    {
     "data": {
      "text/html": [
       "<div>\n",
       "<style scoped>\n",
       "    .dataframe tbody tr th:only-of-type {\n",
       "        vertical-align: middle;\n",
       "    }\n",
       "\n",
       "    .dataframe tbody tr th {\n",
       "        vertical-align: top;\n",
       "    }\n",
       "\n",
       "    .dataframe thead th {\n",
       "        text-align: right;\n",
       "    }\n",
       "</style>\n",
       "<table border=\"1\" class=\"dataframe\">\n",
       "  <thead>\n",
       "    <tr style=\"text-align: right;\">\n",
       "      <th></th>\n",
       "      <th>date</th>\n",
       "      <th>symbol</th>\n",
       "      <th>open</th>\n",
       "      <th>close</th>\n",
       "      <th>low</th>\n",
       "      <th>high</th>\n",
       "      <th>volume</th>\n",
       "    </tr>\n",
       "  </thead>\n",
       "  <tbody>\n",
       "    <tr>\n",
       "      <th>0</th>\n",
       "      <td>2010-01-06</td>\n",
       "      <td>ORCL</td>\n",
       "      <td>24.770000</td>\n",
       "      <td>24.459999</td>\n",
       "      <td>24.379999</td>\n",
       "      <td>24.920000</td>\n",
       "      <td>24560700.0</td>\n",
       "    </tr>\n",
       "    <tr>\n",
       "      <th>1</th>\n",
       "      <td>2010-01-07</td>\n",
       "      <td>ORCL</td>\n",
       "      <td>24.459999</td>\n",
       "      <td>24.379999</td>\n",
       "      <td>24.080000</td>\n",
       "      <td>24.610001</td>\n",
       "      <td>30469700.0</td>\n",
       "    </tr>\n",
       "    <tr>\n",
       "      <th>2</th>\n",
       "      <td>2010-01-08</td>\n",
       "      <td>ORCL</td>\n",
       "      <td>24.280001</td>\n",
       "      <td>24.680000</td>\n",
       "      <td>24.250000</td>\n",
       "      <td>24.750000</td>\n",
       "      <td>23542400.0</td>\n",
       "    </tr>\n",
       "    <tr>\n",
       "      <th>3</th>\n",
       "      <td>2010-01-11</td>\n",
       "      <td>ORCL</td>\n",
       "      <td>24.690001</td>\n",
       "      <td>24.690001</td>\n",
       "      <td>24.370001</td>\n",
       "      <td>24.799999</td>\n",
       "      <td>19002400.0</td>\n",
       "    </tr>\n",
       "    <tr>\n",
       "      <th>4</th>\n",
       "      <td>2010-01-12</td>\n",
       "      <td>ORCL</td>\n",
       "      <td>24.559999</td>\n",
       "      <td>24.559999</td>\n",
       "      <td>24.309999</td>\n",
       "      <td>24.610001</td>\n",
       "      <td>26204600.0</td>\n",
       "    </tr>\n",
       "    <tr>\n",
       "      <th>...</th>\n",
       "      <td>...</td>\n",
       "      <td>...</td>\n",
       "      <td>...</td>\n",
       "      <td>...</td>\n",
       "      <td>...</td>\n",
       "      <td>...</td>\n",
       "      <td>...</td>\n",
       "    </tr>\n",
       "    <tr>\n",
       "      <th>1755</th>\n",
       "      <td>2016-12-23</td>\n",
       "      <td>ORCL</td>\n",
       "      <td>38.790001</td>\n",
       "      <td>38.779999</td>\n",
       "      <td>38.630001</td>\n",
       "      <td>39.020000</td>\n",
       "      <td>8143600.0</td>\n",
       "    </tr>\n",
       "    <tr>\n",
       "      <th>1756</th>\n",
       "      <td>2016-12-27</td>\n",
       "      <td>ORCL</td>\n",
       "      <td>38.770000</td>\n",
       "      <td>38.820000</td>\n",
       "      <td>38.759998</td>\n",
       "      <td>39.040001</td>\n",
       "      <td>5073700.0</td>\n",
       "    </tr>\n",
       "    <tr>\n",
       "      <th>1757</th>\n",
       "      <td>2016-12-28</td>\n",
       "      <td>ORCL</td>\n",
       "      <td>38.869999</td>\n",
       "      <td>38.680000</td>\n",
       "      <td>38.630001</td>\n",
       "      <td>38.919998</td>\n",
       "      <td>8264100.0</td>\n",
       "    </tr>\n",
       "    <tr>\n",
       "      <th>1758</th>\n",
       "      <td>2016-12-29</td>\n",
       "      <td>ORCL</td>\n",
       "      <td>38.610001</td>\n",
       "      <td>38.689999</td>\n",
       "      <td>38.610001</td>\n",
       "      <td>38.840000</td>\n",
       "      <td>5711800.0</td>\n",
       "    </tr>\n",
       "    <tr>\n",
       "      <th>1759</th>\n",
       "      <td>2016-12-30</td>\n",
       "      <td>ORCL</td>\n",
       "      <td>38.750000</td>\n",
       "      <td>38.450001</td>\n",
       "      <td>38.340000</td>\n",
       "      <td>38.860001</td>\n",
       "      <td>10820200.0</td>\n",
       "    </tr>\n",
       "  </tbody>\n",
       "</table>\n",
       "<p>1760 rows × 7 columns</p>\n",
       "</div>"
      ],
      "text/plain": [
       "            date symbol       open      close        low       high  \\\n",
       "0     2010-01-06   ORCL  24.770000  24.459999  24.379999  24.920000   \n",
       "1     2010-01-07   ORCL  24.459999  24.379999  24.080000  24.610001   \n",
       "2     2010-01-08   ORCL  24.280001  24.680000  24.250000  24.750000   \n",
       "3     2010-01-11   ORCL  24.690001  24.690001  24.370001  24.799999   \n",
       "4     2010-01-12   ORCL  24.559999  24.559999  24.309999  24.610001   \n",
       "...          ...    ...        ...        ...        ...        ...   \n",
       "1755  2016-12-23   ORCL  38.790001  38.779999  38.630001  39.020000   \n",
       "1756  2016-12-27   ORCL  38.770000  38.820000  38.759998  39.040001   \n",
       "1757  2016-12-28   ORCL  38.869999  38.680000  38.630001  38.919998   \n",
       "1758  2016-12-29   ORCL  38.610001  38.689999  38.610001  38.840000   \n",
       "1759  2016-12-30   ORCL  38.750000  38.450001  38.340000  38.860001   \n",
       "\n",
       "          volume  \n",
       "0     24560700.0  \n",
       "1     30469700.0  \n",
       "2     23542400.0  \n",
       "3     19002400.0  \n",
       "4     26204600.0  \n",
       "...          ...  \n",
       "1755   8143600.0  \n",
       "1756   5073700.0  \n",
       "1757   8264100.0  \n",
       "1758   5711800.0  \n",
       "1759  10820200.0  \n",
       "\n",
       "[1760 rows x 7 columns]"
      ]
     },
     "execution_count": 85,
     "metadata": {},
     "output_type": "execute_result"
    }
   ],
   "source": [
    "# Reset the index 0, 1,2 etc\n",
    "results = results.reset_index(drop=True)\n",
    "results"
   ]
  },
  {
   "cell_type": "code",
   "execution_count": 86,
   "id": "f192bc49",
   "metadata": {},
   "outputs": [
    {
     "data": {
      "text/html": [
       "<div>\n",
       "<style scoped>\n",
       "    .dataframe tbody tr th:only-of-type {\n",
       "        vertical-align: middle;\n",
       "    }\n",
       "\n",
       "    .dataframe tbody tr th {\n",
       "        vertical-align: top;\n",
       "    }\n",
       "\n",
       "    .dataframe thead th {\n",
       "        text-align: right;\n",
       "    }\n",
       "</style>\n",
       "<table border=\"1\" class=\"dataframe\">\n",
       "  <thead>\n",
       "    <tr style=\"text-align: right;\">\n",
       "      <th></th>\n",
       "      <th>Close_Prediction</th>\n",
       "    </tr>\n",
       "  </thead>\n",
       "  <tbody>\n",
       "    <tr>\n",
       "      <th>0</th>\n",
       "      <td>28.361506</td>\n",
       "    </tr>\n",
       "    <tr>\n",
       "      <th>1</th>\n",
       "      <td>28.221979</td>\n",
       "    </tr>\n",
       "    <tr>\n",
       "      <th>2</th>\n",
       "      <td>28.067028</td>\n",
       "    </tr>\n",
       "    <tr>\n",
       "      <th>3</th>\n",
       "      <td>28.146301</td>\n",
       "    </tr>\n",
       "    <tr>\n",
       "      <th>4</th>\n",
       "      <td>28.255196</td>\n",
       "    </tr>\n",
       "    <tr>\n",
       "      <th>...</th>\n",
       "      <td>...</td>\n",
       "    </tr>\n",
       "    <tr>\n",
       "      <th>1755</th>\n",
       "      <td>38.694927</td>\n",
       "    </tr>\n",
       "    <tr>\n",
       "      <th>1756</th>\n",
       "      <td>38.675011</td>\n",
       "    </tr>\n",
       "    <tr>\n",
       "      <th>1757</th>\n",
       "      <td>38.622677</td>\n",
       "    </tr>\n",
       "    <tr>\n",
       "      <th>1758</th>\n",
       "      <td>38.584244</td>\n",
       "    </tr>\n",
       "    <tr>\n",
       "      <th>1759</th>\n",
       "      <td>38.535500</td>\n",
       "    </tr>\n",
       "  </tbody>\n",
       "</table>\n",
       "<p>1760 rows × 1 columns</p>\n",
       "</div>"
      ],
      "text/plain": [
       "      Close_Prediction\n",
       "0            28.361506\n",
       "1            28.221979\n",
       "2            28.067028\n",
       "3            28.146301\n",
       "4            28.255196\n",
       "...                ...\n",
       "1755         38.694927\n",
       "1756         38.675011\n",
       "1757         38.622677\n",
       "1758         38.584244\n",
       "1759         38.535500\n",
       "\n",
       "[1760 rows x 1 columns]"
      ]
     },
     "execution_count": 86,
     "metadata": {},
     "output_type": "execute_result"
    }
   ],
   "source": [
    "# Convert Predicted Value to Data Frame\n",
    "df_stocks_pred= pd.DataFrame(stocks_pred, columns = ['Close_Prediction'])\n",
    "df_stocks_pred"
   ]
  },
  {
   "cell_type": "code",
   "execution_count": null,
   "id": "8f9222bd",
   "metadata": {},
   "outputs": [],
   "source": [
    "# Concat Original and prediction data\n",
    "results= pd.concat([results,df_stocks_pred],axis =1)\n",
    "results.to_excel('results.xlsx')\n",
    "display(results)"
   ]
  },
  {
   "cell_type": "code",
   "execution_count": null,
   "id": "c3b2aaca",
   "metadata": {},
   "outputs": [],
   "source": []
  },
  {
   "cell_type": "code",
   "execution_count": null,
   "id": "04285998",
   "metadata": {},
   "outputs": [],
   "source": []
  }
 ],
 "metadata": {
  "kernelspec": {
   "display_name": "Python 3 (ipykernel)",
   "language": "python",
   "name": "python3"
  },
  "language_info": {
   "codemirror_mode": {
    "name": "ipython",
    "version": 3
   },
   "file_extension": ".py",
   "mimetype": "text/x-python",
   "name": "python",
   "nbconvert_exporter": "python",
   "pygments_lexer": "ipython3",
   "version": "3.7.13"
  }
 },
 "nbformat": 4,
 "nbformat_minor": 5
}
